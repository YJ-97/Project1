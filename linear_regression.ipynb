{
 "cells": [
  {
   "cell_type": "code",
   "execution_count": 1,
   "metadata": {},
   "outputs": [],
   "source": [
    "import pandas as pd\n",
    "import numpy as np\n",
    "import matplotlib.pyplot as plt\n",
    "import seaborn as sns\n",
    "\n",
    "from sklearn.linear_model import LinearRegression\n",
    "from sklearn.model_selection import train_test_split\n",
    "from sklearn.preprocessing import StandardScaler, LabelEncoder\n",
    "from sklearn.metrics import mean_squared_error, r2_score"
   ]
  },
  {
   "cell_type": "code",
   "execution_count": 2,
   "metadata": {},
   "outputs": [],
   "source": [
    "data = pd.read_csv('./datasets/data.csv', encoding='CP949')\n",
    "target = pd.read_csv('./datasets/OECD신용등급.csv', encoding='CP949')\n",
    "target.drop('신용등급_1', axis=1, inplace=True)"
   ]
  },
  {
   "cell_type": "code",
   "execution_count": 3,
   "metadata": {},
   "outputs": [
    {
     "data": {
      "text/plain": [
       "Index(['국가별', '시점', '인당_국민총소득', 'GDP_성장률', '디플레이터', '수출', '수입', '무역의존도_수출',\n",
       "       '무역의존도_수입', '외환보유액', '부채비율', '국민부담률', '평균근로자세금', '경제활동참가율 (%)', '고용률',\n",
       "       '실업률'],\n",
       "      dtype='object')"
      ]
     },
     "execution_count": 3,
     "metadata": {},
     "output_type": "execute_result"
    }
   ],
   "source": [
    "data.columns"
   ]
  },
  {
   "cell_type": "code",
   "execution_count": 4,
   "metadata": {},
   "outputs": [
    {
     "name": "stdout",
     "output_type": "stream",
     "text": [
      "<class 'pandas.core.frame.DataFrame'>\n",
      "RangeIndex: 114 entries, 0 to 113\n",
      "Data columns (total 16 columns):\n",
      " #   Column    Non-Null Count  Dtype  \n",
      "---  ------    --------------  -----  \n",
      " 0   시점        114 non-null    int64  \n",
      " 1   인당_국민총소득  114 non-null    float64\n",
      " 2   GDP_성장률   114 non-null    float64\n",
      " 3   디플레이터     114 non-null    float64\n",
      " 4   수출        114 non-null    float64\n",
      " 5   수입        114 non-null    float64\n",
      " 6   무역의존도_수출  114 non-null    float64\n",
      " 7   무역의존도_수입  114 non-null    float64\n",
      " 8   외환보유액     114 non-null    int64  \n",
      " 9   부채비율      114 non-null    float64\n",
      " 10  국민부담률     114 non-null    float64\n",
      " 11  평균근로자세금   114 non-null    float64\n",
      " 12  경제활동참가율   114 non-null    float64\n",
      " 13  고용률       114 non-null    float64\n",
      " 14  실업률       114 non-null    float64\n",
      " 15  신용등급      114 non-null    float64\n",
      "dtypes: float64(14), int64(2)\n",
      "memory usage: 14.4 KB\n"
     ]
    }
   ],
   "source": [
    "datasets = pd.merge(data, target, on=('국가별', '시점'), how='left')\n",
    "datasets.columns = ['국가별', '시점', '인당_국민총소득', 'GDP_성장률', '디플레이터', '수출', '수입',\n",
    "       '무역의존도_수출', '무역의존도_수입', '외환보유액', '부채비율', '국민부담률', '평균근로자세금', '경제활동참가율',\n",
    "       '고용률', '실업률', '신용등급']\n",
    "datasets['수입'] = datasets['수입'].astype(float)\n",
    "datasets['무역의존도_수입'] = datasets['무역의존도_수입'].astype(float)\n",
    "datasets.dropna(inplace=True)\n",
    "datasets.reset_index(inplace=True)\n",
    "datasets.drop(['국가별', 'index'], axis=1, inplace=True)\n",
    "datasets.info()"
   ]
  },
  {
   "cell_type": "code",
   "execution_count": 5,
   "metadata": {},
   "outputs": [
    {
     "data": {
      "text/html": [
       "<div>\n",
       "<style scoped>\n",
       "    .dataframe tbody tr th:only-of-type {\n",
       "        vertical-align: middle;\n",
       "    }\n",
       "\n",
       "    .dataframe tbody tr th {\n",
       "        vertical-align: top;\n",
       "    }\n",
       "\n",
       "    .dataframe thead th {\n",
       "        text-align: right;\n",
       "    }\n",
       "</style>\n",
       "<table border=\"1\" class=\"dataframe\">\n",
       "  <thead>\n",
       "    <tr style=\"text-align: right;\">\n",
       "      <th></th>\n",
       "      <th>시점</th>\n",
       "      <th>인당_국민총소득</th>\n",
       "      <th>GDP_성장률</th>\n",
       "      <th>디플레이터</th>\n",
       "      <th>수출</th>\n",
       "      <th>수입</th>\n",
       "      <th>무역의존도_수출</th>\n",
       "      <th>무역의존도_수입</th>\n",
       "      <th>외환보유액</th>\n",
       "      <th>부채비율</th>\n",
       "      <th>국민부담률</th>\n",
       "      <th>평균근로자세금</th>\n",
       "      <th>경제활동참가율</th>\n",
       "      <th>고용률</th>\n",
       "      <th>실업률</th>\n",
       "      <th>신용등급</th>\n",
       "    </tr>\n",
       "  </thead>\n",
       "  <tbody>\n",
       "    <tr>\n",
       "      <th>count</th>\n",
       "      <td>114.000000</td>\n",
       "      <td>114.000000</td>\n",
       "      <td>114.000000</td>\n",
       "      <td>114.000000</td>\n",
       "      <td>1.140000e+02</td>\n",
       "      <td>1.140000e+02</td>\n",
       "      <td>114.000000</td>\n",
       "      <td>114.000000</td>\n",
       "      <td>1.140000e+02</td>\n",
       "      <td>114.000000</td>\n",
       "      <td>114.000000</td>\n",
       "      <td>114.000000</td>\n",
       "      <td>114.000000</td>\n",
       "      <td>114.000000</td>\n",
       "      <td>114.000000</td>\n",
       "      <td>114.000000</td>\n",
       "    </tr>\n",
       "    <tr>\n",
       "      <th>mean</th>\n",
       "      <td>1.710526</td>\n",
       "      <td>32750.570175</td>\n",
       "      <td>3.348246</td>\n",
       "      <td>95.848246</td>\n",
       "      <td>2.238427e+05</td>\n",
       "      <td>2.247745e+05</td>\n",
       "      <td>36.308246</td>\n",
       "      <td>36.257544</td>\n",
       "      <td>8.296503e+04</td>\n",
       "      <td>72.816588</td>\n",
       "      <td>34.342982</td>\n",
       "      <td>38.482456</td>\n",
       "      <td>60.285965</td>\n",
       "      <td>66.111404</td>\n",
       "      <td>8.215789</td>\n",
       "      <td>17.011752</td>\n",
       "    </tr>\n",
       "    <tr>\n",
       "      <th>std</th>\n",
       "      <td>1.053638</td>\n",
       "      <td>19334.244737</td>\n",
       "      <td>3.164914</td>\n",
       "      <td>13.415816</td>\n",
       "      <td>2.823353e+05</td>\n",
       "      <td>3.293057e+05</td>\n",
       "      <td>19.655216</td>\n",
       "      <td>19.602815</td>\n",
       "      <td>1.836847e+05</td>\n",
       "      <td>41.206568</td>\n",
       "      <td>7.007278</td>\n",
       "      <td>8.778587</td>\n",
       "      <td>5.906092</td>\n",
       "      <td>7.026458</td>\n",
       "      <td>4.194235</td>\n",
       "      <td>3.364981</td>\n",
       "    </tr>\n",
       "    <tr>\n",
       "      <th>min</th>\n",
       "      <td>0.000000</td>\n",
       "      <td>3911.000000</td>\n",
       "      <td>-5.500000</td>\n",
       "      <td>58.200000</td>\n",
       "      <td>3.092000e+03</td>\n",
       "      <td>3.919000e+03</td>\n",
       "      <td>8.240000</td>\n",
       "      <td>2.240000</td>\n",
       "      <td>2.790000e+02</td>\n",
       "      <td>6.788000</td>\n",
       "      <td>11.400000</td>\n",
       "      <td>14.700000</td>\n",
       "      <td>48.100000</td>\n",
       "      <td>46.300000</td>\n",
       "      <td>2.600000</td>\n",
       "      <td>3.900000</td>\n",
       "    </tr>\n",
       "    <tr>\n",
       "      <th>25%</th>\n",
       "      <td>1.000000</td>\n",
       "      <td>16402.250000</td>\n",
       "      <td>1.825000</td>\n",
       "      <td>88.625000</td>\n",
       "      <td>4.964800e+04</td>\n",
       "      <td>4.503625e+04</td>\n",
       "      <td>20.455000</td>\n",
       "      <td>22.787500</td>\n",
       "      <td>9.670250e+03</td>\n",
       "      <td>45.590500</td>\n",
       "      <td>30.500000</td>\n",
       "      <td>32.675000</td>\n",
       "      <td>57.325000</td>\n",
       "      <td>61.025000</td>\n",
       "      <td>5.100000</td>\n",
       "      <td>14.500000</td>\n",
       "    </tr>\n",
       "    <tr>\n",
       "      <th>50%</th>\n",
       "      <td>2.000000</td>\n",
       "      <td>31591.500000</td>\n",
       "      <td>2.950000</td>\n",
       "      <td>100.000000</td>\n",
       "      <td>1.204630e+05</td>\n",
       "      <td>8.910150e+04</td>\n",
       "      <td>31.785000</td>\n",
       "      <td>29.410000</td>\n",
       "      <td>3.217000e+04</td>\n",
       "      <td>62.237500</td>\n",
       "      <td>33.100000</td>\n",
       "      <td>38.800000</td>\n",
       "      <td>59.750000</td>\n",
       "      <td>66.200000</td>\n",
       "      <td>7.350000</td>\n",
       "      <td>18.000000</td>\n",
       "    </tr>\n",
       "    <tr>\n",
       "      <th>75%</th>\n",
       "      <td>3.000000</td>\n",
       "      <td>43878.500000</td>\n",
       "      <td>4.200000</td>\n",
       "      <td>103.900000</td>\n",
       "      <td>3.253045e+05</td>\n",
       "      <td>3.147872e+05</td>\n",
       "      <td>51.052500</td>\n",
       "      <td>50.712500</td>\n",
       "      <td>7.330925e+04</td>\n",
       "      <td>97.977500</td>\n",
       "      <td>39.350000</td>\n",
       "      <td>43.925000</td>\n",
       "      <td>63.175000</td>\n",
       "      <td>71.725000</td>\n",
       "      <td>9.825000</td>\n",
       "      <td>20.000000</td>\n",
       "    </tr>\n",
       "    <tr>\n",
       "      <th>max</th>\n",
       "      <td>3.000000</td>\n",
       "      <td>88706.000000</td>\n",
       "      <td>25.200000</td>\n",
       "      <td>143.100000</td>\n",
       "      <td>1.503400e+06</td>\n",
       "      <td>2.248800e+06</td>\n",
       "      <td>86.700000</td>\n",
       "      <td>84.740000</td>\n",
       "      <td>1.233153e+06</td>\n",
       "      <td>234.073000</td>\n",
       "      <td>48.000000</td>\n",
       "      <td>57.100000</td>\n",
       "      <td>81.400000</td>\n",
       "      <td>83.800000</td>\n",
       "      <td>24.900000</td>\n",
       "      <td>20.000000</td>\n",
       "    </tr>\n",
       "  </tbody>\n",
       "</table>\n",
       "</div>"
      ],
      "text/plain": [
       "               시점      인당_국민총소득     GDP_성장률       디플레이터            수출  \\\n",
       "count  114.000000    114.000000  114.000000  114.000000  1.140000e+02   \n",
       "mean     1.710526  32750.570175    3.348246   95.848246  2.238427e+05   \n",
       "std      1.053638  19334.244737    3.164914   13.415816  2.823353e+05   \n",
       "min      0.000000   3911.000000   -5.500000   58.200000  3.092000e+03   \n",
       "25%      1.000000  16402.250000    1.825000   88.625000  4.964800e+04   \n",
       "50%      2.000000  31591.500000    2.950000  100.000000  1.204630e+05   \n",
       "75%      3.000000  43878.500000    4.200000  103.900000  3.253045e+05   \n",
       "max      3.000000  88706.000000   25.200000  143.100000  1.503400e+06   \n",
       "\n",
       "                 수입    무역의존도_수출    무역의존도_수입         외환보유액        부채비율  \\\n",
       "count  1.140000e+02  114.000000  114.000000  1.140000e+02  114.000000   \n",
       "mean   2.247745e+05   36.308246   36.257544  8.296503e+04   72.816588   \n",
       "std    3.293057e+05   19.655216   19.602815  1.836847e+05   41.206568   \n",
       "min    3.919000e+03    8.240000    2.240000  2.790000e+02    6.788000   \n",
       "25%    4.503625e+04   20.455000   22.787500  9.670250e+03   45.590500   \n",
       "50%    8.910150e+04   31.785000   29.410000  3.217000e+04   62.237500   \n",
       "75%    3.147872e+05   51.052500   50.712500  7.330925e+04   97.977500   \n",
       "max    2.248800e+06   86.700000   84.740000  1.233153e+06  234.073000   \n",
       "\n",
       "            국민부담률     평균근로자세금     경제활동참가율         고용률         실업률        신용등급  \n",
       "count  114.000000  114.000000  114.000000  114.000000  114.000000  114.000000  \n",
       "mean    34.342982   38.482456   60.285965   66.111404    8.215789   17.011752  \n",
       "std      7.007278    8.778587    5.906092    7.026458    4.194235    3.364981  \n",
       "min     11.400000   14.700000   48.100000   46.300000    2.600000    3.900000  \n",
       "25%     30.500000   32.675000   57.325000   61.025000    5.100000   14.500000  \n",
       "50%     33.100000   38.800000   59.750000   66.200000    7.350000   18.000000  \n",
       "75%     39.350000   43.925000   63.175000   71.725000    9.825000   20.000000  \n",
       "max     48.000000   57.100000   81.400000   83.800000   24.900000   20.000000  "
      ]
     },
     "execution_count": 5,
     "metadata": {},
     "output_type": "execute_result"
    }
   ],
   "source": [
    "lb = LabelEncoder()\n",
    "datasets['시점'] = lb.fit_transform(datasets['시점'])\n",
    "datasets.describe()"
   ]
  },
  {
   "cell_type": "code",
   "execution_count": 6,
   "metadata": {},
   "outputs": [],
   "source": [
    "x_train, x_test, y_train, y_test = train_test_split(datasets.iloc[:,:15], datasets.iloc[:,15], test_size=0.2, random_state=42)"
   ]
  },
  {
   "cell_type": "code",
   "execution_count": 7,
   "metadata": {},
   "outputs": [
    {
     "name": "stdout",
     "output_type": "stream",
     "text": [
      "mse : 4.2255521778631255 \n",
      "rmse : 2.055614793161191 \n",
      "r2 : 0.5068921400515334 \n",
      "coef : [-1.73137115e+00  5.46419904e-05  5.65498723e-02  7.95359843e-02\n",
      "  7.43637178e-07  3.36262495e-06  1.28427607e-02 -1.41885399e-02\n",
      " -9.95994248e-07 -1.88655698e-02  1.32229287e-01 -6.86548399e-02\n",
      " -2.32938127e-01  3.43035368e-01  1.07834078e-02] \n",
      "intercept : 0.3141255840694477\n"
     ]
    }
   ],
   "source": [
    "lr = LinearRegression()\n",
    "lr.fit(x_train, y_train)\n",
    "pred = lr.predict(x_test)\n",
    "mse = mean_squared_error(y_test, pred)\n",
    "rmse = np.sqrt(mse)\n",
    "r2 = r2_score(y_test, pred)\n",
    "print(f'mse : {mse} \\nrmse : {rmse} \\nr2 : {r2} \\ncoef : {lr.coef_} \\nintercept : {lr.intercept_}')"
   ]
  },
  {
   "cell_type": "code",
   "execution_count": 8,
   "metadata": {},
   "outputs": [
    {
     "data": {
      "text/plain": [
       "<AxesSubplot:>"
      ]
     },
     "execution_count": 8,
     "metadata": {},
     "output_type": "execute_result"
    },
    {
     "name": "stderr",
     "output_type": "stream",
     "text": [
      "d:\\Python310\\lib\\site-packages\\IPython\\core\\pylabtools.py:151: UserWarning: Glyph 8722 (\\N{MINUS SIGN}) missing from current font.\n",
      "  fig.canvas.print_figure(bytes_io, **kw)\n"
     ]
    },
    {
     "data": {
      "image/png": "[encoded data removed]",
      "text/plain": [
       "<Figure size 432x288 with 1 Axes>"
      ]
     },
     "metadata": {
      "needs_background": "light"
     },
     "output_type": "display_data"
    }
   ],
   "source": [
    "coef_ = pd.Series(lr.coef_, index=x_train.columns)\n",
    "coef_sort = coef_.sort_values(ascending=False)\n",
    "plt.rcParams['font.family'] = 'NanumGothic'\n",
    "sns.barplot(x=coef_sort.values, y=coef_sort.index)\n"
   ]
  },
  {
   "cell_type": "code",
   "execution_count": 9,
   "metadata": {},
   "outputs": [
    {
     "name": "stdout",
     "output_type": "stream",
     "text": [
      "mse : 6.0467800649426575 \n",
      "rmse : 2.459020143256793 \n",
      "r2 : 0.29436091381770946 \n",
      "coef : [-1.787842    1.02031202  0.19589787  1.08890687  0.17353835  0.90757011\n",
      "  0.24389648 -0.26787695 -0.19749353 -0.79825627  0.96554988 -0.59980075\n",
      " -1.45810551  2.50960578  0.04483043] \n",
      "intercept : 16.846589917912087\n"
     ]
    }
   ],
   "source": [
    "ss = StandardScaler()\n",
    "x_train_ss = ss.fit_transform(x_train)\n",
    "x_test_ss = ss.fit_transform(x_test)\n",
    "\n",
    "\n",
    "lr = LinearRegression()\n",
    "lr.fit(x_train_ss, y_train)\n",
    "pred = lr.predict(x_test_ss)\n",
    "mse = mean_squared_error(y_test, pred)\n",
    "rmse = np.sqrt(mse)\n",
    "r2 = r2_score(y_test, pred)\n",
    "print(f'mse : {mse} \\nrmse : {rmse} \\nr2 : {r2} \\ncoef : {lr.coef_} \\nintercept : {lr.intercept_}')"
   ]
  },
  {
   "cell_type": "code",
   "execution_count": 10,
   "metadata": {},
   "outputs": [
    {
     "data": {
      "text/plain": [
       "<AxesSubplot:>"
      ]
     },
     "execution_count": 10,
     "metadata": {},
     "output_type": "execute_result"
    },
    {
     "name": "stderr",
     "output_type": "stream",
     "text": [
      "d:\\Python310\\lib\\site-packages\\IPython\\core\\pylabtools.py:151: UserWarning: Glyph 8722 (\\N{MINUS SIGN}) missing from current font.\n",
      "  fig.canvas.print_figure(bytes_io, **kw)\n"
     ]
    },
    {
     "data": {
      "image/png": "[encoded data removed]",
      "text/plain": [
       "<Figure size 432x288 with 1 Axes>"
      ]
     },
     "metadata": {
      "needs_background": "light"
     },
     "output_type": "display_data"
    }
   ],
   "source": [
    "coef_ = pd.Series(lr.coef_, index=x_train.columns)\n",
    "coef_sort = coef_.sort_values(ascending=False)\n",
    "plt.rcParams['font.family'] = 'NanumGothic'\n",
    "sns.barplot(x=coef_sort.values, y=coef_sort.index)\n"
   ]
  },
  {
   "cell_type": "code",
   "execution_count": 11,
   "metadata": {},
   "outputs": [],
   "source": [
    "datasets.drop('시점', inplace=True, axis=1)\n",
    "x_train, x_test, y_train, y_test = train_test_split(datasets.iloc[:,:14], datasets.iloc[:,14], test_size=0.2, random_state=42)"
   ]
  },
  {
   "cell_type": "code",
   "execution_count": 12,
   "metadata": {},
   "outputs": [
    {
     "name": "stdout",
     "output_type": "stream",
     "text": [
      "mse : 5.610327053961492 \n",
      "rmse : 2.3686128966045703 \n",
      "r2 : 0.34529352597203944 \n",
      "coef : [ 4.19029859e-05  4.70468523e-02 -2.09189728e-02 -2.07854917e-06\n",
      "  5.91983089e-06  4.48723814e-02 -5.79472572e-02 -1.24227275e-07\n",
      " -2.61851826e-02  1.46751963e-01 -3.25629307e-02 -2.09323179e-01\n",
      "  2.81656390e-01 -8.53858537e-02] \n",
      "intercept : 9.852133080987016\n"
     ]
    }
   ],
   "source": [
    "lr = LinearRegression()\n",
    "lr.fit(x_train, y_train)\n",
    "pred = lr.predict(x_test)\n",
    "mse = mean_squared_error(y_test, pred)\n",
    "rmse = np.sqrt(mse)\n",
    "r2 = r2_score(y_test, pred)\n",
    "print(f'mse : {mse} \\nrmse : {rmse} \\nr2 : {r2} \\ncoef : {lr.coef_} \\nintercept : {lr.intercept_}')"
   ]
  },
  {
   "cell_type": "code",
   "execution_count": 13,
   "metadata": {},
   "outputs": [
    {
     "data": {
      "text/plain": [
       "<AxesSubplot:>"
      ]
     },
     "execution_count": 13,
     "metadata": {},
     "output_type": "execute_result"
    },
    {
     "name": "stderr",
     "output_type": "stream",
     "text": [
      "d:\\Python310\\lib\\site-packages\\IPython\\core\\pylabtools.py:151: UserWarning: Glyph 8722 (\\N{MINUS SIGN}) missing from current font.\n",
      "  fig.canvas.print_figure(bytes_io, **kw)\n"
     ]
    },
    {
     "data": {
      "image/png": "[encoded data removed]",
      "text/plain": [
       "<Figure size 432x288 with 1 Axes>"
      ]
     },
     "metadata": {
      "needs_background": "light"
     },
     "output_type": "display_data"
    }
   ],
   "source": [
    "coef_ = pd.Series(lr.coef_, index=x_train.columns)\n",
    "coef_sort = coef_.sort_values(ascending=False)\n",
    "plt.rcParams['font.family'] = 'NanumGothic'\n",
    "sns.barplot(x=coef_sort.values, y=coef_sort.index)\n"
   ]
  },
  {
   "cell_type": "code",
   "execution_count": 14,
   "metadata": {},
   "outputs": [
    {
     "name": "stdout",
     "output_type": "stream",
     "text": [
      "mse : 6.84156489087862 \n",
      "rmse : 2.6156385245057505 \n",
      "r2 : 0.2016121727916338 \n",
      "coef : [ 0.78244076  0.16297788 -0.28639632 -0.48505912  1.59775819  0.85217003\n",
      " -1.09403325 -0.02463276 -1.10797005  1.07159573 -0.28448497 -1.31028477\n",
      "  2.06056451 -0.35497909] \n",
      "intercept : 16.846589917912087\n"
     ]
    }
   ],
   "source": [
    "ss = StandardScaler()\n",
    "x_train_ss = ss.fit_transform(x_train)\n",
    "x_test_ss = ss.fit_transform(x_test)\n",
    "\n",
    "\n",
    "lr = LinearRegression()\n",
    "lr.fit(x_train_ss, y_train)\n",
    "pred = lr.predict(x_test_ss)\n",
    "mse = mean_squared_error(y_test, pred)\n",
    "rmse = np.sqrt(mse)\n",
    "r2 = r2_score(y_test, pred)\n",
    "print(f'mse : {mse} \\nrmse : {rmse} \\nr2 : {r2} \\ncoef : {lr.coef_} \\nintercept : {lr.intercept_}')"
   ]
  },
  {
   "cell_type": "code",
   "execution_count": 15,
   "metadata": {},
   "outputs": [
    {
     "data": {
      "text/plain": [
       "<AxesSubplot:>"
      ]
     },
     "execution_count": 15,
     "metadata": {},
     "output_type": "execute_result"
    },
    {
     "name": "stderr",
     "output_type": "stream",
     "text": [
      "d:\\Python310\\lib\\site-packages\\IPython\\core\\pylabtools.py:151: UserWarning: Glyph 8722 (\\N{MINUS SIGN}) missing from current font.\n",
      "  fig.canvas.print_figure(bytes_io, **kw)\n"
     ]
    },
    {
     "data": {
      "image/png": "[encoded data removed]",
      "text/plain": [
       "<Figure size 432x288 with 1 Axes>"
      ]
     },
     "metadata": {
      "needs_background": "light"
     },
     "output_type": "display_data"
    }
   ],
   "source": [
    "coef_ = pd.Series(lr.coef_, index=x_train.columns)\n",
    "coef_sort = coef_.sort_values(ascending=False)\n",
    "plt.rcParams['font.family'] = 'NanumGothic'\n",
    "sns.barplot(x=coef_sort.values, y=coef_sort.index)"
   ]
  }
 ],
 "metadata": {
  "interpreter": {
   "hash": "1fa163922eb0b3709bbb5d8082b2465c9de796dbaacca80cbaa600e7fff3e4fe"
  },
  "kernelspec": {
   "display_name": "Python 3.10.1 64-bit",
   "language": "python",
   "name": "python3"
  },
  "language_info": {
   "codemirror_mode": {
    "name": "ipython",
    "version": 3
   },
   "file_extension": ".py",
   "mimetype": "text/x-python",
   "name": "python",
   "nbconvert_exporter": "python",
   "pygments_lexer": "ipython3",
   "version": "3.10.1"
  },
  "orig_nbformat": 4
 },
 "nbformat": 4,
 "nbformat_minor": 2
}
