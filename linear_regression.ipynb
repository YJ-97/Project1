{
 "cells": [
  {
   "cell_type": "code",
   "execution_count": 1,
   "metadata": {},
   "outputs": [],
   "source": [
    "import pandas as pd\n",
    "import numpy as np\n",
    "import matplotlib.pyplot as plt\n",
    "import seaborn as sns\n",
    "\n",
    "from sklearn.linear_model import LinearRegression\n",
    "from sklearn.model_selection import train_test_split\n",
    "from sklearn.preprocessing import StandardScaler, LabelEncoder\n",
    "from sklearn.metrics import mean_squared_error, r2_score"
   ]
  },
  {
   "cell_type": "code",
   "execution_count": 33,
   "metadata": {},
   "outputs": [],
   "source": [
    "data = pd.read_csv('./datasets/data.csv', encoding='CP949')\n",
    "target = pd.read_csv('./datasets/OECD신용등급.csv', encoding='CP949')"
   ]
  },
  {
   "cell_type": "code",
   "execution_count": 34,
   "metadata": {},
   "outputs": [
    {
     "name": "stdout",
     "output_type": "stream",
     "text": [
      "<class 'pandas.core.frame.DataFrame'>\n",
      "RangeIndex: 116 entries, 0 to 115\n",
      "Data columns (total 16 columns):\n",
      " #   Column    Non-Null Count  Dtype  \n",
      "---  ------    --------------  -----  \n",
      " 0   시점        116 non-null    int64  \n",
      " 1   국내총생산     116 non-null    int64  \n",
      " 2   고용률       116 non-null    float64\n",
      " 3   국민부담률     116 non-null    float64\n",
      " 4   경제활동참가율   116 non-null    float64\n",
      " 5   무역의존도_수출  116 non-null    float64\n",
      " 6   무역의존도_수입  116 non-null    float64\n",
      " 7   수출        116 non-null    float64\n",
      " 8   수입        116 non-null    float64\n",
      " 9   외환보유액     116 non-null    float64\n",
      " 10  부채비율      116 non-null    float64\n",
      " 11  실업률       116 non-null    float64\n",
      " 12  평균근로자세금   116 non-null    float64\n",
      " 13  디플레이터     116 non-null    float64\n",
      " 14  GDP_성장률   116 non-null    float64\n",
      " 15  신용등급      116 non-null    float64\n",
      "dtypes: float64(14), int64(2)\n",
      "memory usage: 14.6 KB\n"
     ]
    }
   ],
   "source": [
    "datasets = pd.merge(data, target, on=('국가별', '시점'), how='left')\n",
    "datasets.columns = ['국가별', '시점', '국내총생산', '고용률', '국민부담률', '경제활동참가율', '무역의존도_수출',\n",
    "       '무역의존도_수입', '수출', '수입', '외환보유액', '부채비율', '실업률', '평균근로자세금', '디플레이터',\n",
    "       'GDP_성장률', '신용등급']\n",
    "datasets['수입'] = datasets['수입'].astype(float)\n",
    "datasets['무역의존도_수입'] = datasets['무역의존도_수입'].astype(float)\n",
    "datasets.dropna(inplace=True)\n",
    "datasets.reset_index(inplace=True)\n",
    "datasets.drop(['국가별', 'index'], axis=1, inplace=True)\n",
    "datasets.info()"
   ]
  },
  {
   "cell_type": "code",
   "execution_count": 35,
   "metadata": {},
   "outputs": [
    {
     "data": {
      "text/html": [
       "<div>\n",
       "<style scoped>\n",
       "    .dataframe tbody tr th:only-of-type {\n",
       "        vertical-align: middle;\n",
       "    }\n",
       "\n",
       "    .dataframe tbody tr th {\n",
       "        vertical-align: top;\n",
       "    }\n",
       "\n",
       "    .dataframe thead th {\n",
       "        text-align: right;\n",
       "    }\n",
       "</style>\n",
       "<table border=\"1\" class=\"dataframe\">\n",
       "  <thead>\n",
       "    <tr style=\"text-align: right;\">\n",
       "      <th></th>\n",
       "      <th>시점</th>\n",
       "      <th>국내총생산</th>\n",
       "      <th>고용률</th>\n",
       "      <th>국민부담률</th>\n",
       "      <th>경제활동참가율</th>\n",
       "      <th>무역의존도_수출</th>\n",
       "      <th>무역의존도_수입</th>\n",
       "      <th>수출</th>\n",
       "      <th>수입</th>\n",
       "      <th>외환보유액</th>\n",
       "      <th>부채비율</th>\n",
       "      <th>실업률</th>\n",
       "      <th>평균근로자세금</th>\n",
       "      <th>디플레이터</th>\n",
       "      <th>GDP_성장률</th>\n",
       "      <th>신용등급</th>\n",
       "    </tr>\n",
       "  </thead>\n",
       "  <tbody>\n",
       "    <tr>\n",
       "      <th>count</th>\n",
       "      <td>116.000000</td>\n",
       "      <td>116.000000</td>\n",
       "      <td>116.000000</td>\n",
       "      <td>116.000000</td>\n",
       "      <td>116.000000</td>\n",
       "      <td>116.000000</td>\n",
       "      <td>116.000000</td>\n",
       "      <td>1.160000e+02</td>\n",
       "      <td>1.160000e+02</td>\n",
       "      <td>1.160000e+02</td>\n",
       "      <td>116.000000</td>\n",
       "      <td>116.000000</td>\n",
       "      <td>116.000000</td>\n",
       "      <td>116.000000</td>\n",
       "      <td>116.000000</td>\n",
       "      <td>116.000000</td>\n",
       "    </tr>\n",
       "    <tr>\n",
       "      <th>mean</th>\n",
       "      <td>1.689655</td>\n",
       "      <td>33346.146552</td>\n",
       "      <td>65.972414</td>\n",
       "      <td>34.313793</td>\n",
       "      <td>60.153448</td>\n",
       "      <td>37.006552</td>\n",
       "      <td>37.020345</td>\n",
       "      <td>2.217822e+05</td>\n",
       "      <td>2.229416e+05</td>\n",
       "      <td>8.167653e+04</td>\n",
       "      <td>73.539026</td>\n",
       "      <td>8.257759</td>\n",
       "      <td>38.507759</td>\n",
       "      <td>95.595690</td>\n",
       "      <td>3.329310</td>\n",
       "      <td>16.979940</td>\n",
       "    </tr>\n",
       "    <tr>\n",
       "      <th>std</th>\n",
       "      <td>1.058414</td>\n",
       "      <td>20702.131682</td>\n",
       "      <td>7.047338</td>\n",
       "      <td>6.950307</td>\n",
       "      <td>5.940245</td>\n",
       "      <td>22.166097</td>\n",
       "      <td>21.632006</td>\n",
       "      <td>2.805340e+05</td>\n",
       "      <td>3.268235e+05</td>\n",
       "      <td>1.823440e+05</td>\n",
       "      <td>41.213343</td>\n",
       "      <td>4.170646</td>\n",
       "      <td>8.705592</td>\n",
       "      <td>13.460676</td>\n",
       "      <td>3.148085</td>\n",
       "      <td>3.344374</td>\n",
       "    </tr>\n",
       "    <tr>\n",
       "      <th>min</th>\n",
       "      <td>0.000000</td>\n",
       "      <td>4076.000000</td>\n",
       "      <td>46.300000</td>\n",
       "      <td>11.400000</td>\n",
       "      <td>48.100000</td>\n",
       "      <td>7.440000</td>\n",
       "      <td>2.240000</td>\n",
       "      <td>3.092000e+03</td>\n",
       "      <td>3.919000e+03</td>\n",
       "      <td>2.790000e+02</td>\n",
       "      <td>6.788000</td>\n",
       "      <td>2.600000</td>\n",
       "      <td>14.700000</td>\n",
       "      <td>58.200000</td>\n",
       "      <td>-5.500000</td>\n",
       "      <td>3.900000</td>\n",
       "    </tr>\n",
       "    <tr>\n",
       "      <th>25%</th>\n",
       "      <td>1.000000</td>\n",
       "      <td>16641.000000</td>\n",
       "      <td>60.650000</td>\n",
       "      <td>30.500000</td>\n",
       "      <td>57.025000</td>\n",
       "      <td>20.292500</td>\n",
       "      <td>22.902500</td>\n",
       "      <td>4.842350e+04</td>\n",
       "      <td>4.620275e+04</td>\n",
       "      <td>9.268750e+03</td>\n",
       "      <td>45.829500</td>\n",
       "      <td>5.100000</td>\n",
       "      <td>32.825000</td>\n",
       "      <td>87.700000</td>\n",
       "      <td>1.800000</td>\n",
       "      <td>14.500000</td>\n",
       "    </tr>\n",
       "    <tr>\n",
       "      <th>50%</th>\n",
       "      <td>2.000000</td>\n",
       "      <td>30719.000000</td>\n",
       "      <td>66.100000</td>\n",
       "      <td>33.100000</td>\n",
       "      <td>59.650000</td>\n",
       "      <td>31.785000</td>\n",
       "      <td>29.410000</td>\n",
       "      <td>1.204630e+05</td>\n",
       "      <td>8.910150e+04</td>\n",
       "      <td>3.073500e+04</td>\n",
       "      <td>63.252000</td>\n",
       "      <td>7.450000</td>\n",
       "      <td>38.800000</td>\n",
       "      <td>100.000000</td>\n",
       "      <td>2.950000</td>\n",
       "      <td>18.000000</td>\n",
       "    </tr>\n",
       "    <tr>\n",
       "      <th>75%</th>\n",
       "      <td>3.000000</td>\n",
       "      <td>44260.500000</td>\n",
       "      <td>71.575000</td>\n",
       "      <td>39.250000</td>\n",
       "      <td>63.125000</td>\n",
       "      <td>51.107500</td>\n",
       "      <td>50.787500</td>\n",
       "      <td>3.073575e+05</td>\n",
       "      <td>3.133178e+05</td>\n",
       "      <td>7.170775e+04</td>\n",
       "      <td>101.067500</td>\n",
       "      <td>9.925000</td>\n",
       "      <td>43.775000</td>\n",
       "      <td>103.700000</td>\n",
       "      <td>4.200000</td>\n",
       "      <td>20.000000</td>\n",
       "    </tr>\n",
       "    <tr>\n",
       "      <th>max</th>\n",
       "      <td>3.000000</td>\n",
       "      <td>104965.000000</td>\n",
       "      <td>83.800000</td>\n",
       "      <td>48.000000</td>\n",
       "      <td>81.400000</td>\n",
       "      <td>146.180000</td>\n",
       "      <td>137.700000</td>\n",
       "      <td>1.503400e+06</td>\n",
       "      <td>2.248800e+06</td>\n",
       "      <td>1.233153e+06</td>\n",
       "      <td>234.073000</td>\n",
       "      <td>24.900000</td>\n",
       "      <td>57.100000</td>\n",
       "      <td>143.100000</td>\n",
       "      <td>25.200000</td>\n",
       "      <td>20.000000</td>\n",
       "    </tr>\n",
       "  </tbody>\n",
       "</table>\n",
       "</div>"
      ],
      "text/plain": [
       "               시점          국내총생산         고용률       국민부담률     경제활동참가율  \\\n",
       "count  116.000000     116.000000  116.000000  116.000000  116.000000   \n",
       "mean     1.689655   33346.146552   65.972414   34.313793   60.153448   \n",
       "std      1.058414   20702.131682    7.047338    6.950307    5.940245   \n",
       "min      0.000000    4076.000000   46.300000   11.400000   48.100000   \n",
       "25%      1.000000   16641.000000   60.650000   30.500000   57.025000   \n",
       "50%      2.000000   30719.000000   66.100000   33.100000   59.650000   \n",
       "75%      3.000000   44260.500000   71.575000   39.250000   63.125000   \n",
       "max      3.000000  104965.000000   83.800000   48.000000   81.400000   \n",
       "\n",
       "         무역의존도_수출    무역의존도_수입            수출            수입         외환보유액  \\\n",
       "count  116.000000  116.000000  1.160000e+02  1.160000e+02  1.160000e+02   \n",
       "mean    37.006552   37.020345  2.217822e+05  2.229416e+05  8.167653e+04   \n",
       "std     22.166097   21.632006  2.805340e+05  3.268235e+05  1.823440e+05   \n",
       "min      7.440000    2.240000  3.092000e+03  3.919000e+03  2.790000e+02   \n",
       "25%     20.292500   22.902500  4.842350e+04  4.620275e+04  9.268750e+03   \n",
       "50%     31.785000   29.410000  1.204630e+05  8.910150e+04  3.073500e+04   \n",
       "75%     51.107500   50.787500  3.073575e+05  3.133178e+05  7.170775e+04   \n",
       "max    146.180000  137.700000  1.503400e+06  2.248800e+06  1.233153e+06   \n",
       "\n",
       "             부채비율         실업률     평균근로자세금       디플레이터     GDP_성장률        신용등급  \n",
       "count  116.000000  116.000000  116.000000  116.000000  116.000000  116.000000  \n",
       "mean    73.539026    8.257759   38.507759   95.595690    3.329310   16.979940  \n",
       "std     41.213343    4.170646    8.705592   13.460676    3.148085    3.344374  \n",
       "min      6.788000    2.600000   14.700000   58.200000   -5.500000    3.900000  \n",
       "25%     45.829500    5.100000   32.825000   87.700000    1.800000   14.500000  \n",
       "50%     63.252000    7.450000   38.800000  100.000000    2.950000   18.000000  \n",
       "75%    101.067500    9.925000   43.775000  103.700000    4.200000   20.000000  \n",
       "max    234.073000   24.900000   57.100000  143.100000   25.200000   20.000000  "
      ]
     },
     "execution_count": 35,
     "metadata": {},
     "output_type": "execute_result"
    }
   ],
   "source": [
    "lb = LabelEncoder()\n",
    "datasets['시점'] = lb.fit_transform(datasets['시점'])\n",
    "datasets.describe()"
   ]
  },
  {
   "cell_type": "code",
   "execution_count": 36,
   "metadata": {},
   "outputs": [],
   "source": [
    "x_train, x_test, y_train, y_test = train_test_split(datasets.iloc[:,:15], datasets.iloc[:,15], test_size=0.2, random_state=42)"
   ]
  },
  {
   "cell_type": "code",
   "execution_count": 40,
   "metadata": {},
   "outputs": [
    {
     "name": "stdout",
     "output_type": "stream",
     "text": [
      "mse : 3.7925262582827535 \n",
      "rmse : 1.9474409511671344 \n",
      "r2 : 0.6011462798059319 \n",
      "coef : [-1.58174299e+00  5.16662684e-05  3.02839984e-01  1.31273856e-01\n",
      " -1.79933843e-01  2.81150169e-03 -8.92189029e-03  1.73628953e-06\n",
      "  2.83301368e-06 -3.77068879e-07 -2.20475188e-02  7.94681016e-03\n",
      " -5.07595155e-02  5.56369675e-02  2.24166005e-02] \n",
      "intercept : 1.6243614825741801\n"
     ]
    }
   ],
   "source": [
    "lr = LinearRegression()\n",
    "lr.fit(x_train, y_train)\n",
    "pred = lr.predict(x_test)\n",
    "mse = mean_squared_error(y_test, pred)\n",
    "rmse = np.sqrt(mse)\n",
    "r2 = r2_score(y_test, pred)\n",
    "print(f'mse : {mse} \\nrmse : {rmse} \\nr2 : {r2} \\ncoef : {lr.coef_} \\nintercept : {lr.intercept_}')"
   ]
  },
  {
   "cell_type": "code",
   "execution_count": 50,
   "metadata": {},
   "outputs": [
    {
     "data": {
      "text/plain": [
       "<AxesSubplot:>"
      ]
     },
     "execution_count": 50,
     "metadata": {},
     "output_type": "execute_result"
    },
    {
     "name": "stderr",
     "output_type": "stream",
     "text": [
      "d:\\Python310\\lib\\site-packages\\IPython\\core\\pylabtools.py:151: UserWarning: Glyph 8722 (\\N{MINUS SIGN}) missing from current font.\n",
      "  fig.canvas.print_figure(bytes_io, **kw)\n"
     ]
    },
    {
     "data": {
      "image/png": "[encoded data removed]",
      "text/plain": [
       "<Figure size 432x288 with 1 Axes>"
      ]
     },
     "metadata": {
      "needs_background": "light"
     },
     "output_type": "display_data"
    }
   ],
   "source": [
    "coef_ = pd.Series(lr.coef_, index=x_train.columns)\n",
    "coef_sort = coef_.sort_values(ascending=False)\n",
    "plt.rcParams['font.family'] = 'NanumGothic'\n",
    "sns.barplot(x=coef_sort.values, y=coef_sort.index)\n"
   ]
  },
  {
   "cell_type": "code",
   "execution_count": 51,
   "metadata": {},
   "outputs": [
    {
     "name": "stdout",
     "output_type": "stream",
     "text": [
      "mse : 4.122588282137987 \n",
      "rmse : 2.0304157904572127 \n",
      "r2 : 0.5664342021184192 \n",
      "coef : [-1.68700408  1.1204433   2.15357857  0.95933251 -1.06556312  0.06318834\n",
      " -0.19586095  0.39723918  0.74258962 -0.07445402 -0.95106797  0.03072182\n",
      " -0.44353495  0.76298229  0.07475918] \n",
      "intercept : 16.93032263619566\n"
     ]
    }
   ],
   "source": [
    "ss = StandardScaler()\n",
    "x_train_ss = ss.fit_transform(x_train)\n",
    "x_test_ss = ss.fit_transform(x_test)\n",
    "\n",
    "\n",
    "lr = LinearRegression()\n",
    "lr.fit(x_train_ss, y_train)\n",
    "pred = lr.predict(x_test_ss)\n",
    "mse = mean_squared_error(y_test, pred)\n",
    "rmse = np.sqrt(mse)\n",
    "r2 = r2_score(y_test, pred)\n",
    "print(f'mse : {mse} \\nrmse : {rmse} \\nr2 : {r2} \\ncoef : {lr.coef_} \\nintercept : {lr.intercept_}')"
   ]
  },
  {
   "cell_type": "code",
   "execution_count": 52,
   "metadata": {},
   "outputs": [
    {
     "data": {
      "text/plain": [
       "<AxesSubplot:>"
      ]
     },
     "execution_count": 52,
     "metadata": {},
     "output_type": "execute_result"
    },
    {
     "name": "stderr",
     "output_type": "stream",
     "text": [
      "d:\\Python310\\lib\\site-packages\\IPython\\core\\pylabtools.py:151: UserWarning: Glyph 8722 (\\N{MINUS SIGN}) missing from current font.\n",
      "  fig.canvas.print_figure(bytes_io, **kw)\n"
     ]
    },
    {
     "data": {
      "image/png": "[encoded data removed]",
      "text/plain": [
       "<Figure size 432x288 with 1 Axes>"
      ]
     },
     "metadata": {
      "needs_background": "light"
     },
     "output_type": "display_data"
    }
   ],
   "source": [
    "coef_ = pd.Series(lr.coef_, index=x_train.columns)\n",
    "coef_sort = coef_.sort_values(ascending=False)\n",
    "plt.rcParams['font.family'] = 'NanumGothic'\n",
    "sns.barplot(x=coef_sort.values, y=coef_sort.index)\n"
   ]
  },
  {
   "cell_type": "code",
   "execution_count": 62,
   "metadata": {},
   "outputs": [],
   "source": [
    "datasets.drop('시점', inplace=True, axis=1)\n",
    "x_train, x_test, y_train, y_test = train_test_split(datasets.iloc[:,:14], datasets.iloc[:,14], test_size=0.2, random_state=42)"
   ]
  },
  {
   "cell_type": "code",
   "execution_count": 63,
   "metadata": {},
   "outputs": [
    {
     "name": "stdout",
     "output_type": "stream",
     "text": [
      "mse : 5.606244836480634 \n",
      "rmse : 2.367751008125777 \n",
      "r2 : 0.4104004937432989 \n",
      "coef : [ 4.48895961e-05  2.34972007e-01  1.50041472e-01 -1.54765187e-01\n",
      "  2.74508841e-02 -3.75037971e-02 -4.05112090e-07  4.76491938e-06\n",
      " -8.77588808e-08 -2.51421170e-02 -1.03275053e-01 -3.80864040e-02\n",
      " -4.41948526e-02  3.01182881e-02] \n",
      "intercept : 11.787460034312597\n"
     ]
    }
   ],
   "source": [
    "lr = LinearRegression()\n",
    "lr.fit(x_train, y_train)\n",
    "pred = lr.predict(x_test)\n",
    "mse = mean_squared_error(y_test, pred)\n",
    "rmse = np.sqrt(mse)\n",
    "r2 = r2_score(y_test, pred)\n",
    "print(f'mse : {mse} \\nrmse : {rmse} \\nr2 : {r2} \\ncoef : {lr.coef_} \\nintercept : {lr.intercept_}')"
   ]
  },
  {
   "cell_type": "code",
   "execution_count": 64,
   "metadata": {},
   "outputs": [
    {
     "data": {
      "text/plain": [
       "<AxesSubplot:>"
      ]
     },
     "execution_count": 64,
     "metadata": {},
     "output_type": "execute_result"
    },
    {
     "name": "stderr",
     "output_type": "stream",
     "text": [
      "d:\\Python310\\lib\\site-packages\\IPython\\core\\pylabtools.py:151: UserWarning: Glyph 8722 (\\N{MINUS SIGN}) missing from current font.\n",
      "  fig.canvas.print_figure(bytes_io, **kw)\n"
     ]
    },
    {
     "data": {
      "image/png": "[encoded data removed]",
      "text/plain": [
       "<Figure size 432x288 with 1 Axes>"
      ]
     },
     "metadata": {
      "needs_background": "light"
     },
     "output_type": "display_data"
    }
   ],
   "source": [
    "coef_ = pd.Series(lr.coef_, index=x_train.columns)\n",
    "coef_sort = coef_.sort_values(ascending=False)\n",
    "plt.rcParams['font.family'] = 'NanumGothic'\n",
    "sns.barplot(x=coef_sort.values, y=coef_sort.index)\n"
   ]
  },
  {
   "cell_type": "code",
   "execution_count": 65,
   "metadata": {},
   "outputs": [
    {
     "name": "stdout",
     "output_type": "stream",
     "text": [
      "mse : 6.136132228421617 \n",
      "rmse : 2.4771217629381113 \n",
      "r2 : 0.35467311226557896 \n",
      "coef : [ 0.97348326  1.67095069  1.09648385 -0.91651505  0.61695707 -0.82331538\n",
      " -0.09268408  1.2489808  -0.0173284  -1.08456024 -0.39925419 -0.33279773\n",
      " -0.60606987  0.10044424] \n",
      "intercept : 16.930322636195655\n"
     ]
    }
   ],
   "source": [
    "ss = StandardScaler()\n",
    "x_train_ss = ss.fit_transform(x_train)\n",
    "x_test_ss = ss.fit_transform(x_test)\n",
    "\n",
    "\n",
    "lr = LinearRegression()\n",
    "lr.fit(x_train_ss, y_train)\n",
    "pred = lr.predict(x_test_ss)\n",
    "mse = mean_squared_error(y_test, pred)\n",
    "rmse = np.sqrt(mse)\n",
    "r2 = r2_score(y_test, pred)\n",
    "print(f'mse : {mse} \\nrmse : {rmse} \\nr2 : {r2} \\ncoef : {lr.coef_} \\nintercept : {lr.intercept_}')"
   ]
  },
  {
   "cell_type": "code",
   "execution_count": 66,
   "metadata": {},
   "outputs": [
    {
     "data": {
      "text/plain": [
       "<AxesSubplot:>"
      ]
     },
     "execution_count": 66,
     "metadata": {},
     "output_type": "execute_result"
    },
    {
     "name": "stderr",
     "output_type": "stream",
     "text": [
      "d:\\Python310\\lib\\site-packages\\IPython\\core\\pylabtools.py:151: UserWarning: Glyph 8722 (\\N{MINUS SIGN}) missing from current font.\n",
      "  fig.canvas.print_figure(bytes_io, **kw)\n"
     ]
    },
    {
     "data": {
      "image/png": "[encoded data removed]",
      "text/plain": [
       "<Figure size 432x288 with 1 Axes>"
      ]
     },
     "metadata": {
      "needs_background": "light"
     },
     "output_type": "display_data"
    }
   ],
   "source": [
    "coef_ = pd.Series(lr.coef_, index=x_train.columns)\n",
    "coef_sort = coef_.sort_values(ascending=False)\n",
    "plt.rcParams['font.family'] = 'NanumGothic'\n",
    "sns.barplot(x=coef_sort.values, y=coef_sort.index)"
   ]
  }
 ],
 "metadata": {
  "interpreter": {
   "hash": "1fa163922eb0b3709bbb5d8082b2465c9de796dbaacca80cbaa600e7fff3e4fe"
  },
  "kernelspec": {
   "display_name": "Python 3.10.1 64-bit",
   "language": "python",
   "name": "python3"
  },
  "language_info": {
   "codemirror_mode": {
    "name": "ipython",
    "version": 3
   },
   "file_extension": ".py",
   "mimetype": "text/x-python",
   "name": "python",
   "nbconvert_exporter": "python",
   "pygments_lexer": "ipython3",
   "version": "3.10.1"
  },
  "orig_nbformat": 4
 },
 "nbformat": 4,
 "nbformat_minor": 2
}
