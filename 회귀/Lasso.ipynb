{
 "cells": [
  {
   "cell_type": "code",
   "execution_count": 1,
   "metadata": {},
   "outputs": [],
   "source": [
    "import pandas as pd\n",
    "import numpy as np\n",
    "import matplotlib.pyplot as plt\n",
    "import seaborn as sns\n",
    "\n",
    "from sklearn.linear_model import Lasso\n",
    "from sklearn.model_selection import train_test_split\n",
    "from sklearn.preprocessing import StandardScaler, LabelEncoder\n",
    "from sklearn.metrics import mean_squared_error, r2_score"
   ]
  },
  {
   "cell_type": "code",
   "execution_count": 3,
   "metadata": {},
   "outputs": [],
   "source": [
    "data = pd.read_csv('../datasets/input.csv')\n",
    "target = pd.read_csv('../datasets/target.csv')"
   ]
  },
  {
   "cell_type": "code",
   "execution_count": 4,
   "metadata": {},
   "outputs": [
    {
     "name": "stdout",
     "output_type": "stream",
     "text": [
      "<class 'pandas.core.frame.DataFrame'>\n",
      "RangeIndex: 1261 entries, 0 to 1260\n",
      "Data columns (total 10 columns):\n",
      " #   Column    Non-Null Count  Dtype  \n",
      "---  ------    --------------  -----  \n",
      " 0   시점        1261 non-null   int64  \n",
      " 1   인당_GDP    1261 non-null   float64\n",
      " 2   부채비율      1261 non-null   float64\n",
      " 3   실업률       1261 non-null   float64\n",
      " 4   상품및서비스수입  1261 non-null   float64\n",
      " 5   상품및서비스수출  1261 non-null   float64\n",
      " 6   정치적안정성    1261 non-null   int64  \n",
      " 7   규제의질      1261 non-null   int64  \n",
      " 8   경상수지      1261 non-null   float64\n",
      " 9   신용등급점수    1261 non-null   float64\n",
      "dtypes: float64(7), int64(3)\n",
      "memory usage: 98.6 KB\n"
     ]
    }
   ],
   "source": [
    "datasets = pd.merge(data, target, on=('국가별', '시점'), how='outer')\n",
    "datasets.dropna(inplace=True)\n",
    "datasets.reset_index(inplace=True)\n",
    "datasets.drop(['국가별', 'index'], axis=1, inplace=True)\n",
    "datasets.info()"
   ]
  },
  {
   "cell_type": "code",
   "execution_count": 5,
   "metadata": {},
   "outputs": [
    {
     "data": {
      "text/html": [
       "<div>\n",
       "<style scoped>\n",
       "    .dataframe tbody tr th:only-of-type {\n",
       "        vertical-align: middle;\n",
       "    }\n",
       "\n",
       "    .dataframe tbody tr th {\n",
       "        vertical-align: top;\n",
       "    }\n",
       "\n",
       "    .dataframe thead th {\n",
       "        text-align: right;\n",
       "    }\n",
       "</style>\n",
       "<table border=\"1\" class=\"dataframe\">\n",
       "  <thead>\n",
       "    <tr style=\"text-align: right;\">\n",
       "      <th></th>\n",
       "      <th>시점</th>\n",
       "      <th>인당_GDP</th>\n",
       "      <th>부채비율</th>\n",
       "      <th>실업률</th>\n",
       "      <th>상품및서비스수입</th>\n",
       "      <th>상품및서비스수출</th>\n",
       "      <th>정치적안정성</th>\n",
       "      <th>규제의질</th>\n",
       "      <th>경상수지</th>\n",
       "      <th>신용등급점수</th>\n",
       "    </tr>\n",
       "  </thead>\n",
       "  <tbody>\n",
       "    <tr>\n",
       "      <th>count</th>\n",
       "      <td>1261.000000</td>\n",
       "      <td>1261.000000</td>\n",
       "      <td>1261.000000</td>\n",
       "      <td>1261.000000</td>\n",
       "      <td>1261.000000</td>\n",
       "      <td>1261.000000</td>\n",
       "      <td>1261.000000</td>\n",
       "      <td>1261.000000</td>\n",
       "      <td>1261.000000</td>\n",
       "      <td>1261.000000</td>\n",
       "    </tr>\n",
       "    <tr>\n",
       "      <th>mean</th>\n",
       "      <td>7.505155</td>\n",
       "      <td>22012.779330</td>\n",
       "      <td>55.695265</td>\n",
       "      <td>7.113140</td>\n",
       "      <td>4.170044</td>\n",
       "      <td>3.660556</td>\n",
       "      <td>54.612213</td>\n",
       "      <td>67.015860</td>\n",
       "      <td>-1.326674</td>\n",
       "      <td>12.526324</td>\n",
       "    </tr>\n",
       "    <tr>\n",
       "      <th>std</th>\n",
       "      <td>4.603761</td>\n",
       "      <td>22939.181148</td>\n",
       "      <td>37.783440</td>\n",
       "      <td>4.499929</td>\n",
       "      <td>10.071854</td>\n",
       "      <td>9.109875</td>\n",
       "      <td>27.897707</td>\n",
       "      <td>23.512842</td>\n",
       "      <td>7.070186</td>\n",
       "      <td>5.288810</td>\n",
       "    </tr>\n",
       "    <tr>\n",
       "      <th>min</th>\n",
       "      <td>0.000000</td>\n",
       "      <td>333.731576</td>\n",
       "      <td>-3.400000</td>\n",
       "      <td>0.210000</td>\n",
       "      <td>-50.275895</td>\n",
       "      <td>-56.736571</td>\n",
       "      <td>0.000000</td>\n",
       "      <td>6.000000</td>\n",
       "      <td>-41.526871</td>\n",
       "      <td>0.000000</td>\n",
       "    </tr>\n",
       "    <tr>\n",
       "      <th>25%</th>\n",
       "      <td>4.000000</td>\n",
       "      <td>4379.658787</td>\n",
       "      <td>30.300000</td>\n",
       "      <td>4.120000</td>\n",
       "      <td>0.200224</td>\n",
       "      <td>0.259701</td>\n",
       "      <td>29.000000</td>\n",
       "      <td>48.000000</td>\n",
       "      <td>-4.754963</td>\n",
       "      <td>8.000000</td>\n",
       "    </tr>\n",
       "    <tr>\n",
       "      <th>50%</th>\n",
       "      <td>8.000000</td>\n",
       "      <td>12808.038340</td>\n",
       "      <td>47.100000</td>\n",
       "      <td>6.120000</td>\n",
       "      <td>4.560764</td>\n",
       "      <td>4.075288</td>\n",
       "      <td>58.000000</td>\n",
       "      <td>70.000000</td>\n",
       "      <td>-1.742977</td>\n",
       "      <td>12.500000</td>\n",
       "    </tr>\n",
       "    <tr>\n",
       "      <th>75%</th>\n",
       "      <td>11.000000</td>\n",
       "      <td>36323.447740</td>\n",
       "      <td>70.780000</td>\n",
       "      <td>8.480000</td>\n",
       "      <td>9.093538</td>\n",
       "      <td>7.668103</td>\n",
       "      <td>79.000000</td>\n",
       "      <td>88.000000</td>\n",
       "      <td>2.367691</td>\n",
       "      <td>17.000000</td>\n",
       "    </tr>\n",
       "    <tr>\n",
       "      <th>max</th>\n",
       "      <td>15.000000</td>\n",
       "      <td>123514.196700</td>\n",
       "      <td>266.200000</td>\n",
       "      <td>31.110000</td>\n",
       "      <td>66.893243</td>\n",
       "      <td>86.043298</td>\n",
       "      <td>100.000000</td>\n",
       "      <td>100.000000</td>\n",
       "      <td>27.397650</td>\n",
       "      <td>20.000000</td>\n",
       "    </tr>\n",
       "  </tbody>\n",
       "</table>\n",
       "</div>"
      ],
      "text/plain": [
       "                시점         인당_GDP         부채비율          실업률     상품및서비스수입  \\\n",
       "count  1261.000000    1261.000000  1261.000000  1261.000000  1261.000000   \n",
       "mean      7.505155   22012.779330    55.695265     7.113140     4.170044   \n",
       "std       4.603761   22939.181148    37.783440     4.499929    10.071854   \n",
       "min       0.000000     333.731576    -3.400000     0.210000   -50.275895   \n",
       "25%       4.000000    4379.658787    30.300000     4.120000     0.200224   \n",
       "50%       8.000000   12808.038340    47.100000     6.120000     4.560764   \n",
       "75%      11.000000   36323.447740    70.780000     8.480000     9.093538   \n",
       "max      15.000000  123514.196700   266.200000    31.110000    66.893243   \n",
       "\n",
       "          상품및서비스수출       정치적안정성         규제의질         경상수지       신용등급점수  \n",
       "count  1261.000000  1261.000000  1261.000000  1261.000000  1261.000000  \n",
       "mean      3.660556    54.612213    67.015860    -1.326674    12.526324  \n",
       "std       9.109875    27.897707    23.512842     7.070186     5.288810  \n",
       "min     -56.736571     0.000000     6.000000   -41.526871     0.000000  \n",
       "25%       0.259701    29.000000    48.000000    -4.754963     8.000000  \n",
       "50%       4.075288    58.000000    70.000000    -1.742977    12.500000  \n",
       "75%       7.668103    79.000000    88.000000     2.367691    17.000000  \n",
       "max      86.043298   100.000000   100.000000    27.397650    20.000000  "
      ]
     },
     "execution_count": 5,
     "metadata": {},
     "output_type": "execute_result"
    }
   ],
   "source": [
    "lb = LabelEncoder()\n",
    "datasets['시점'] = lb.fit_transform(datasets['시점'])\n",
    "datasets.describe()"
   ]
  },
  {
   "cell_type": "code",
   "execution_count": 6,
   "metadata": {},
   "outputs": [],
   "source": [
    "x_train, x_test, y_train, y_test = train_test_split(datasets.iloc[:,:9], datasets.iloc[:,9], test_size=0.2, random_state=42)"
   ]
  },
  {
   "cell_type": "code",
   "execution_count": 8,
   "metadata": {},
   "outputs": [],
   "source": [
    "alphas = [100, 10, 1, 0.1, 0.01, 0.001]"
   ]
  },
  {
   "cell_type": "code",
   "execution_count": 9,
   "metadata": {},
   "outputs": [
    {
     "name": "stdout",
     "output_type": "stream",
     "text": [
      "alpha : 100\n",
      "mse : 11.785625899012043\n",
      "rmse : 3.43301993862722\n",
      "r2 : 0.2972179232587955\n",
      "\n",
      "alpha : 10\n",
      "mse : 5.510851625681844\n",
      "rmse : 2.347520314221337\n",
      "r2 : 0.7238882743775722\n",
      "\n",
      "alpha : 1\n",
      "mse : 4.257098505578897\n",
      "rmse : 2.06327373500922\n",
      "r2 : 0.8153334534743608\n",
      "\n",
      "alpha : 0.1\n",
      "mse : 4.04498249047127\n",
      "rmse : 2.011214183141932\n",
      "r2 : 0.8288677625005645\n",
      "\n",
      "alpha : 0.01\n",
      "mse : 4.026292827623195\n",
      "rmse : 2.0065624404994713\n",
      "r2 : 0.8302154473915473\n",
      "\n",
      "alpha : 0.001\n",
      "mse : 4.024574569053874\n",
      "rmse : 2.0061342350535454\n",
      "r2 : 0.8303444364443262\n",
      "\n"
     ]
    }
   ],
   "source": [
    "## alpha 값마다 결과 출력\n",
    "for alpha in alphas:\n",
    "    lasso = Lasso(alpha=alpha)\n",
    "    lasso.fit(x_train, y_train)\n",
    "    pred = lasso.predict(x_test)\n",
    "    mse = mean_squared_error(pred, y_test)\n",
    "    rmse = np.sqrt(mse)\n",
    "    r2 = r2_score(pred, y_test)\n",
    "    print('alpha : {0}\\nmse : {1}\\nrmse : {2}\\nr2 : {3}\\n'.format(alpha, mse, rmse, r2))"
   ]
  },
  {
   "cell_type": "code",
   "execution_count": 10,
   "metadata": {},
   "outputs": [
    {
     "name": "stdout",
     "output_type": "stream",
     "text": [
      "mse : 4.026292827623195 \n",
      "rmse : 2.0065624404994713 \n",
      "r2 : 0.8302154473915473 \n",
      "coef : [-6.56110545e-02  5.17418797e-05 -1.49182018e-02 -1.09094009e-01\n",
      "  6.73484203e-03 -1.95971504e-02 -9.82905549e-03  1.65051004e-01\n",
      "  8.79891625e-02] \n",
      "intercept : 3.087175077745812\n"
     ]
    }
   ],
   "source": [
    "## 0.01과 0.0001이 많이 차이나지 않아 0.01로 확인\n",
    "lasso = Lasso(alpha=0.01)\n",
    "lasso.fit(x_train, y_train)\n",
    "pred = lasso.predict(x_test)\n",
    "mse = mean_squared_error(pred, y_test)\n",
    "rmse = np.sqrt(mse)\n",
    "r2 = r2_score(pred, y_test)\n",
    "print(f'mse : {mse} \\nrmse : {rmse} \\nr2 : {r2} \\ncoef : {lasso.coef_} \\nintercept : {lasso.intercept_}')"
   ]
  },
  {
   "cell_type": "code",
   "execution_count": 11,
   "metadata": {},
   "outputs": [
    {
     "data": {
      "text/plain": [
       "<AxesSubplot:>"
      ]
     },
     "execution_count": 11,
     "metadata": {},
     "output_type": "execute_result"
    },
    {
     "name": "stderr",
     "output_type": "stream",
     "text": [
      "d:\\Python310\\lib\\site-packages\\IPython\\core\\pylabtools.py:151: UserWarning: Glyph 8722 (\\N{MINUS SIGN}) missing from current font.\n",
      "  fig.canvas.print_figure(bytes_io, **kw)\n"
     ]
    },
    {
     "data": {
      "image/png": "[encoded data removed]",
      "text/plain": [
       "<Figure size 432x288 with 1 Axes>"
      ]
     },
     "metadata": {
      "needs_background": "light"
     },
     "output_type": "display_data"
    }
   ],
   "source": [
    "coef_ = pd.Series(lasso.coef_, index=x_train.columns)\n",
    "coef_sort = coef_.sort_values(ascending=False)\n",
    "plt.rcParams['font.family'] = 'NanumGothic'\n",
    "sns.barplot(x=coef_sort.values, y=coef_sort.index)"
   ]
  },
  {
   "cell_type": "code",
   "execution_count": 12,
   "metadata": {},
   "outputs": [
    {
     "name": "stdout",
     "output_type": "stream",
     "text": [
      "mse : 4.028311081431592 \n",
      "rmse : 2.007065290774466 \n",
      "r2 : 0.8549624890899095 \n",
      "coef : [-0.29347356  1.16842431 -0.55244742 -0.49412533  0.03723462 -0.15149807\n",
      " -0.23435059  3.846121    0.60498068] \n",
      "intercept : 12.526770833333334\n"
     ]
    }
   ],
   "source": [
    "ss = StandardScaler()\n",
    "x_train_ss = ss.fit_transform(x_train)\n",
    "x_test_ss = ss.fit_transform(x_test)\n",
    "\n",
    "lasso = Lasso(alpha=0.01)\n",
    "lasso.fit(x_train_ss, y_train)\n",
    "pred = lasso.predict(x_test_ss)\n",
    "mse = mean_squared_error(y_test, pred)\n",
    "rmse = np.sqrt(mse)\n",
    "r2 = r2_score(y_test, pred)\n",
    "print(f'mse : {mse} \\nrmse : {rmse} \\nr2 : {r2} \\ncoef : {lasso.coef_} \\nintercept : {lasso.intercept_}')"
   ]
  },
  {
   "cell_type": "code",
   "execution_count": 13,
   "metadata": {},
   "outputs": [
    {
     "data": {
      "text/plain": [
       "<AxesSubplot:>"
      ]
     },
     "execution_count": 13,
     "metadata": {},
     "output_type": "execute_result"
    },
    {
     "data": {
      "image/png": "[encoded data removed]",
      "text/plain": [
       "<Figure size 432x288 with 1 Axes>"
      ]
     },
     "metadata": {
      "needs_background": "light"
     },
     "output_type": "display_data"
    }
   ],
   "source": [
    "coef_ = pd.Series(lasso.coef_, index=x_train.columns)\n",
    "coef_sort = coef_.sort_values(ascending=False)\n",
    "plt.rcParams['font.family'] = 'NanumGothic'\n",
    "sns.barplot(x=coef_sort.values, y=coef_sort.index)"
   ]
  },
  {
   "cell_type": "markdown",
   "metadata": {},
   "source": [
    "#### 모델 별 계수 확인"
   ]
  },
  {
   "cell_type": "code",
   "execution_count": 16,
   "metadata": {},
   "outputs": [],
   "source": [
    "lasso100 = Lasso(alpha=100, max_iter=10000).fit(x_train_ss, y_train)\n",
    "lasso1 = Lasso(alpha=1, max_iter=10000).fit(x_train_ss, y_train)\n",
    "lasso01 = Lasso(alpha=0.1, max_iter=10000).fit(x_train_ss, y_train)\n",
    "lasso001 = Lasso(alpha=0.01, max_iter=10000).fit(x_train_ss, y_train)\n",
    "lasso0001 = Lasso(alpha=0.001, max_iter=10000).fit(x_train_ss, y_train)"
   ]
  },
  {
   "cell_type": "code",
   "execution_count": 18,
   "metadata": {},
   "outputs": [
    {
     "data": {
      "text/plain": [
       "Text(0.5, 0, '계수 크기')"
      ]
     },
     "execution_count": 18,
     "metadata": {},
     "output_type": "execute_result"
    },
    {
     "name": "stderr",
     "output_type": "stream",
     "text": [
      "d:\\Python310\\lib\\site-packages\\IPython\\core\\pylabtools.py:151: UserWarning: Glyph 8722 (\\N{MINUS SIGN}) missing from current font.\n",
      "  fig.canvas.print_figure(bytes_io, **kw)\n"
     ]
    },
    {
     "data": {
      "image/png": "[encoded data removed]",
      "text/plain": [
       "<Figure size 432x288 with 1 Axes>"
      ]
     },
     "metadata": {
      "needs_background": "light"
     },
     "output_type": "display_data"
    }
   ],
   "source": [
    "plt.plot(lasso100.coef_,'s',  label='Lasso alpha=100')\n",
    "plt.plot(lasso1.coef_,'s',  label='Lasso alpha=1')\n",
    "plt.plot(lasso01.coef_, '^', label='Lasso alpha=0.1')\n",
    "plt.plot(lasso001.coef_, 'v', label='Lasso alpha=0.01')\n",
    "plt.plot(lasso0001.coef_, 'o', label='Lasso alpha=0.001')\n",
    "plt.legend(ncol=2, loc=(0, 1.05))\n",
    "plt.ylim(-25, 25)\n",
    "plt.rcParams['font.family'] = 'NanumGothic'\n",
    "plt.xlabel('계수 목록')\n",
    "plt.xlabel('계수 크기')"
   ]
  },
  {
   "cell_type": "code",
   "execution_count": null,
   "metadata": {},
   "outputs": [],
   "source": []
  }
 ],
 "metadata": {
  "interpreter": {
   "hash": "1fa163922eb0b3709bbb5d8082b2465c9de796dbaacca80cbaa600e7fff3e4fe"
  },
  "kernelspec": {
   "display_name": "Python 3.10.1 64-bit",
   "language": "python",
   "name": "python3"
  },
  "language_info": {
   "codemirror_mode": {
    "name": "ipython",
    "version": 3
   },
   "file_extension": ".py",
   "mimetype": "text/x-python",
   "name": "python",
   "nbconvert_exporter": "python",
   "pygments_lexer": "ipython3",
   "version": "3.10.1"
  },
  "orig_nbformat": 4
 },
 "nbformat": 4,
 "nbformat_minor": 2
}
