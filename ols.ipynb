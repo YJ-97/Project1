{
 "cells": [
  {
   "cell_type": "code",
   "execution_count": 44,
   "metadata": {},
   "outputs": [],
   "source": [
    "import pandas as pd\n",
    "import statsmodels.formula.api as sm\n",
    "import numpy as np\n",
    "from statsmodels.stats.outliers_influence import variance_inflation_factor\n",
    "from sklearn.model_selection import train_test_split\n",
    "from sklearn.preprocessing import LabelEncoder, StandardScaler\n",
    "import matplotlib.pyplot as plt\n",
    "import seaborn as sns\n",
    "import scipy.stats"
   ]
  },
  {
   "cell_type": "code",
   "execution_count": 45,
   "metadata": {},
   "outputs": [],
   "source": [
    "data = pd.read_csv('./datasets/data.csv', encoding='CP949')\n",
    "target = pd.read_csv('./datasets/OECD신용등급.csv', encoding='CP949')\n"
   ]
  },
  {
   "cell_type": "code",
   "execution_count": 46,
   "metadata": {},
   "outputs": [
    {
     "name": "stdout",
     "output_type": "stream",
     "text": [
      "<class 'pandas.core.frame.DataFrame'>\n",
      "RangeIndex: 116 entries, 0 to 115\n",
      "Data columns (total 16 columns):\n",
      " #   Column    Non-Null Count  Dtype  \n",
      "---  ------    --------------  -----  \n",
      " 0   시점        116 non-null    int64  \n",
      " 1   국내총생산     116 non-null    int64  \n",
      " 2   고용률       116 non-null    float64\n",
      " 3   국민부담률     116 non-null    float64\n",
      " 4   경제활동참가율   116 non-null    float64\n",
      " 5   무역의존도_수출  116 non-null    float64\n",
      " 6   무역의존도_수입  116 non-null    float64\n",
      " 7   수출        116 non-null    float64\n",
      " 8   수입        116 non-null    float64\n",
      " 9   외환보유액     116 non-null    float64\n",
      " 10  부채비율      116 non-null    float64\n",
      " 11  실업률       116 non-null    float64\n",
      " 12  평균근로자세금   116 non-null    float64\n",
      " 13  디플레이터     116 non-null    float64\n",
      " 14  GDP_성장률   116 non-null    float64\n",
      " 15  신용등급      116 non-null    float64\n",
      "dtypes: float64(14), int64(2)\n",
      "memory usage: 14.6 KB\n"
     ]
    }
   ],
   "source": [
    "datasets = pd.merge(data, target, on=('국가별', '시점'), how='left')\n",
    "datasets.columns = ['국가별', '시점', '국내총생산', '고용률', '국민부담률', '경제활동참가율', '무역의존도_수출',\n",
    "       '무역의존도_수입', '수출', '수입', '외환보유액', '부채비율', '실업률', '평균근로자세금', '디플레이터',\n",
    "       'GDP_성장률', '신용등급']\n",
    "datasets.dropna(inplace=True)\n",
    "datasets.reset_index(inplace=True)\n",
    "datasets.drop(['국가별', 'index'], axis=1, inplace=True)\n",
    "datasets.info()"
   ]
  },
  {
   "cell_type": "code",
   "execution_count": 47,
   "metadata": {},
   "outputs": [
    {
     "data": {
      "text/html": [
       "<div>\n",
       "<style scoped>\n",
       "    .dataframe tbody tr th:only-of-type {\n",
       "        vertical-align: middle;\n",
       "    }\n",
       "\n",
       "    .dataframe tbody tr th {\n",
       "        vertical-align: top;\n",
       "    }\n",
       "\n",
       "    .dataframe thead th {\n",
       "        text-align: right;\n",
       "    }\n",
       "</style>\n",
       "<table border=\"1\" class=\"dataframe\">\n",
       "  <thead>\n",
       "    <tr style=\"text-align: right;\">\n",
       "      <th></th>\n",
       "      <th>시점</th>\n",
       "      <th>국내총생산</th>\n",
       "      <th>고용률</th>\n",
       "      <th>국민부담률</th>\n",
       "      <th>경제활동참가율</th>\n",
       "      <th>무역의존도_수출</th>\n",
       "      <th>무역의존도_수입</th>\n",
       "      <th>수출</th>\n",
       "      <th>수입</th>\n",
       "      <th>외환보유액</th>\n",
       "      <th>부채비율</th>\n",
       "      <th>실업률</th>\n",
       "      <th>평균근로자세금</th>\n",
       "      <th>디플레이터</th>\n",
       "      <th>GDP_성장률</th>\n",
       "      <th>신용등급</th>\n",
       "    </tr>\n",
       "  </thead>\n",
       "  <tbody>\n",
       "    <tr>\n",
       "      <th>count</th>\n",
       "      <td>116.000000</td>\n",
       "      <td>116.000000</td>\n",
       "      <td>116.000000</td>\n",
       "      <td>116.000000</td>\n",
       "      <td>116.000000</td>\n",
       "      <td>116.000000</td>\n",
       "      <td>116.000000</td>\n",
       "      <td>1.160000e+02</td>\n",
       "      <td>1.160000e+02</td>\n",
       "      <td>1.160000e+02</td>\n",
       "      <td>116.000000</td>\n",
       "      <td>116.000000</td>\n",
       "      <td>116.000000</td>\n",
       "      <td>116.000000</td>\n",
       "      <td>116.000000</td>\n",
       "      <td>116.000000</td>\n",
       "    </tr>\n",
       "    <tr>\n",
       "      <th>mean</th>\n",
       "      <td>1.689655</td>\n",
       "      <td>33346.146552</td>\n",
       "      <td>65.972414</td>\n",
       "      <td>34.313793</td>\n",
       "      <td>60.153448</td>\n",
       "      <td>37.006552</td>\n",
       "      <td>37.020345</td>\n",
       "      <td>2.217822e+05</td>\n",
       "      <td>2.229416e+05</td>\n",
       "      <td>8.167653e+04</td>\n",
       "      <td>73.539026</td>\n",
       "      <td>8.257759</td>\n",
       "      <td>38.507759</td>\n",
       "      <td>95.595690</td>\n",
       "      <td>3.329310</td>\n",
       "      <td>16.979940</td>\n",
       "    </tr>\n",
       "    <tr>\n",
       "      <th>std</th>\n",
       "      <td>1.058414</td>\n",
       "      <td>20702.131682</td>\n",
       "      <td>7.047338</td>\n",
       "      <td>6.950307</td>\n",
       "      <td>5.940245</td>\n",
       "      <td>22.166097</td>\n",
       "      <td>21.632006</td>\n",
       "      <td>2.805340e+05</td>\n",
       "      <td>3.268235e+05</td>\n",
       "      <td>1.823440e+05</td>\n",
       "      <td>41.213343</td>\n",
       "      <td>4.170646</td>\n",
       "      <td>8.705592</td>\n",
       "      <td>13.460676</td>\n",
       "      <td>3.148085</td>\n",
       "      <td>3.344374</td>\n",
       "    </tr>\n",
       "    <tr>\n",
       "      <th>min</th>\n",
       "      <td>0.000000</td>\n",
       "      <td>4076.000000</td>\n",
       "      <td>46.300000</td>\n",
       "      <td>11.400000</td>\n",
       "      <td>48.100000</td>\n",
       "      <td>7.440000</td>\n",
       "      <td>2.240000</td>\n",
       "      <td>3.092000e+03</td>\n",
       "      <td>3.919000e+03</td>\n",
       "      <td>2.790000e+02</td>\n",
       "      <td>6.788000</td>\n",
       "      <td>2.600000</td>\n",
       "      <td>14.700000</td>\n",
       "      <td>58.200000</td>\n",
       "      <td>-5.500000</td>\n",
       "      <td>3.900000</td>\n",
       "    </tr>\n",
       "    <tr>\n",
       "      <th>25%</th>\n",
       "      <td>1.000000</td>\n",
       "      <td>16641.000000</td>\n",
       "      <td>60.650000</td>\n",
       "      <td>30.500000</td>\n",
       "      <td>57.025000</td>\n",
       "      <td>20.292500</td>\n",
       "      <td>22.902500</td>\n",
       "      <td>4.842350e+04</td>\n",
       "      <td>4.620275e+04</td>\n",
       "      <td>9.268750e+03</td>\n",
       "      <td>45.829500</td>\n",
       "      <td>5.100000</td>\n",
       "      <td>32.825000</td>\n",
       "      <td>87.700000</td>\n",
       "      <td>1.800000</td>\n",
       "      <td>14.500000</td>\n",
       "    </tr>\n",
       "    <tr>\n",
       "      <th>50%</th>\n",
       "      <td>2.000000</td>\n",
       "      <td>30719.000000</td>\n",
       "      <td>66.100000</td>\n",
       "      <td>33.100000</td>\n",
       "      <td>59.650000</td>\n",
       "      <td>31.785000</td>\n",
       "      <td>29.410000</td>\n",
       "      <td>1.204630e+05</td>\n",
       "      <td>8.910150e+04</td>\n",
       "      <td>3.073500e+04</td>\n",
       "      <td>63.252000</td>\n",
       "      <td>7.450000</td>\n",
       "      <td>38.800000</td>\n",
       "      <td>100.000000</td>\n",
       "      <td>2.950000</td>\n",
       "      <td>18.000000</td>\n",
       "    </tr>\n",
       "    <tr>\n",
       "      <th>75%</th>\n",
       "      <td>3.000000</td>\n",
       "      <td>44260.500000</td>\n",
       "      <td>71.575000</td>\n",
       "      <td>39.250000</td>\n",
       "      <td>63.125000</td>\n",
       "      <td>51.107500</td>\n",
       "      <td>50.787500</td>\n",
       "      <td>3.073575e+05</td>\n",
       "      <td>3.133178e+05</td>\n",
       "      <td>7.170775e+04</td>\n",
       "      <td>101.067500</td>\n",
       "      <td>9.925000</td>\n",
       "      <td>43.775000</td>\n",
       "      <td>103.700000</td>\n",
       "      <td>4.200000</td>\n",
       "      <td>20.000000</td>\n",
       "    </tr>\n",
       "    <tr>\n",
       "      <th>max</th>\n",
       "      <td>3.000000</td>\n",
       "      <td>104965.000000</td>\n",
       "      <td>83.800000</td>\n",
       "      <td>48.000000</td>\n",
       "      <td>81.400000</td>\n",
       "      <td>146.180000</td>\n",
       "      <td>137.700000</td>\n",
       "      <td>1.503400e+06</td>\n",
       "      <td>2.248800e+06</td>\n",
       "      <td>1.233153e+06</td>\n",
       "      <td>234.073000</td>\n",
       "      <td>24.900000</td>\n",
       "      <td>57.100000</td>\n",
       "      <td>143.100000</td>\n",
       "      <td>25.200000</td>\n",
       "      <td>20.000000</td>\n",
       "    </tr>\n",
       "  </tbody>\n",
       "</table>\n",
       "</div>"
      ],
      "text/plain": [
       "               시점          국내총생산         고용률       국민부담률     경제활동참가율  \\\n",
       "count  116.000000     116.000000  116.000000  116.000000  116.000000   \n",
       "mean     1.689655   33346.146552   65.972414   34.313793   60.153448   \n",
       "std      1.058414   20702.131682    7.047338    6.950307    5.940245   \n",
       "min      0.000000    4076.000000   46.300000   11.400000   48.100000   \n",
       "25%      1.000000   16641.000000   60.650000   30.500000   57.025000   \n",
       "50%      2.000000   30719.000000   66.100000   33.100000   59.650000   \n",
       "75%      3.000000   44260.500000   71.575000   39.250000   63.125000   \n",
       "max      3.000000  104965.000000   83.800000   48.000000   81.400000   \n",
       "\n",
       "         무역의존도_수출    무역의존도_수입            수출            수입         외환보유액  \\\n",
       "count  116.000000  116.000000  1.160000e+02  1.160000e+02  1.160000e+02   \n",
       "mean    37.006552   37.020345  2.217822e+05  2.229416e+05  8.167653e+04   \n",
       "std     22.166097   21.632006  2.805340e+05  3.268235e+05  1.823440e+05   \n",
       "min      7.440000    2.240000  3.092000e+03  3.919000e+03  2.790000e+02   \n",
       "25%     20.292500   22.902500  4.842350e+04  4.620275e+04  9.268750e+03   \n",
       "50%     31.785000   29.410000  1.204630e+05  8.910150e+04  3.073500e+04   \n",
       "75%     51.107500   50.787500  3.073575e+05  3.133178e+05  7.170775e+04   \n",
       "max    146.180000  137.700000  1.503400e+06  2.248800e+06  1.233153e+06   \n",
       "\n",
       "             부채비율         실업률     평균근로자세금       디플레이터     GDP_성장률        신용등급  \n",
       "count  116.000000  116.000000  116.000000  116.000000  116.000000  116.000000  \n",
       "mean    73.539026    8.257759   38.507759   95.595690    3.329310   16.979940  \n",
       "std     41.213343    4.170646    8.705592   13.460676    3.148085    3.344374  \n",
       "min      6.788000    2.600000   14.700000   58.200000   -5.500000    3.900000  \n",
       "25%     45.829500    5.100000   32.825000   87.700000    1.800000   14.500000  \n",
       "50%     63.252000    7.450000   38.800000  100.000000    2.950000   18.000000  \n",
       "75%    101.067500    9.925000   43.775000  103.700000    4.200000   20.000000  \n",
       "max    234.073000   24.900000   57.100000  143.100000   25.200000   20.000000  "
      ]
     },
     "execution_count": 47,
     "metadata": {},
     "output_type": "execute_result"
    }
   ],
   "source": [
    "lb = LabelEncoder()\n",
    "datasets['시점'] = lb.fit_transform(datasets['시점'])\n",
    "datasets.describe()"
   ]
  },
  {
   "cell_type": "code",
   "execution_count": 53,
   "metadata": {},
   "outputs": [
    {
     "name": "stdout",
     "output_type": "stream",
     "text": [
      "                            OLS Regression Results                            \n",
      "==============================================================================\n",
      "Dep. Variable:                   신용등급   R-squared:                       0.783\n",
      "Model:                            OLS   Adj. R-squared:                  0.750\n",
      "Method:                 Least Squares   F-statistic:                     24.00\n",
      "Date:                Thu, 12 May 2022   Prob (F-statistic):           1.44e-26\n",
      "Time:                        14:00:20   Log-Likelihood:                -215.62\n",
      "No. Observations:                 116   AIC:                             463.2\n",
      "Df Residuals:                     100   BIC:                             507.3\n",
      "Df Model:                          15                                         \n",
      "Covariance Type:            nonrobust                                         \n",
      "==============================================================================\n",
      "                 coef    std err          t      P>|t|      [0.025      0.975]\n",
      "------------------------------------------------------------------------------\n",
      "Intercept      0.9218      3.503      0.263      0.793      -6.028       7.872\n",
      "시점            -1.5578      0.281     -5.544      0.000      -2.115      -1.000\n",
      "국내총생산        5.29e-05   1.11e-05      4.759      0.000    3.08e-05     7.5e-05\n",
      "고용률            0.3175      0.069      4.595      0.000       0.180       0.455\n",
      "국민부담률          0.1441      0.047      3.051      0.003       0.050       0.238\n",
      "경제활동참가율       -0.2004      0.070     -2.850      0.005      -0.340      -0.061\n",
      "무역의존도_수출       0.0083      0.023      0.358      0.721      -0.038       0.054\n",
      "무역의존도_수입      -0.0094      0.026     -0.362      0.718      -0.061       0.042\n",
      "수출          1.842e-06   2.21e-06      0.835      0.406   -2.53e-06    6.22e-06\n",
      "수입          2.176e-06   1.75e-06      1.243      0.217    -1.3e-06    5.65e-06\n",
      "외환보유액      -2.585e-07   1.27e-06     -0.203      0.839   -2.78e-06    2.26e-06\n",
      "부채비율          -0.0209      0.006     -3.760      0.000      -0.032      -0.010\n",
      "실업률            0.0517      0.065      0.801      0.425      -0.076       0.180\n",
      "평균근로자세금       -0.0714      0.041     -1.723      0.088      -0.154       0.011\n",
      "디플레이터          0.0632      0.022      2.828      0.006       0.019       0.108\n",
      "GDP_성장률        0.0224      0.056      0.401      0.689      -0.088       0.133\n",
      "==============================================================================\n",
      "Omnibus:                        2.835   Durbin-Watson:                   1.226\n",
      "Prob(Omnibus):                  0.242   Jarque-Bera (JB):                2.255\n",
      "Skew:                          -0.269   Prob(JB):                        0.324\n",
      "Kurtosis:                       3.420   Cond. No.                     1.22e+07\n",
      "==============================================================================\n",
      "\n",
      "Notes:\n",
      "[1] Standard Errors assume that the covariance matrix of the errors is correctly specified.\n",
      "[2] The condition number is large, 1.22e+07. This might indicate that there are\n",
      "strong multicollinearity or other numerical problems.\n"
     ]
    }
   ],
   "source": [
    "ols_ = sm.ols('신용등급 ~ 시점 + 국내총생산 + 고용률 + 국민부담률 + 경제활동참가율 +  무역의존도_수출 + 무역의존도_수입 + 수출 + 수입 + 외환보유액 + 부채비율 + 실업률 + 평균근로자세금 + 디플레이터 + GDP_성장률',\n",
    " data=datasets)\n",
    "result = ols_.fit()\n",
    "print(result.summary())\n"
   ]
  },
  {
   "cell_type": "code",
   "execution_count": 56,
   "metadata": {},
   "outputs": [
    {
     "data": {
      "text/html": [
       "<div>\n",
       "<style scoped>\n",
       "    .dataframe tbody tr th:only-of-type {\n",
       "        vertical-align: middle;\n",
       "    }\n",
       "\n",
       "    .dataframe tbody tr th {\n",
       "        vertical-align: top;\n",
       "    }\n",
       "\n",
       "    .dataframe thead th {\n",
       "        text-align: right;\n",
       "    }\n",
       "</style>\n",
       "<table border=\"1\" class=\"dataframe\">\n",
       "  <thead>\n",
       "    <tr style=\"text-align: right;\">\n",
       "      <th></th>\n",
       "      <th>컬럼</th>\n",
       "      <th>VIF</th>\n",
       "    </tr>\n",
       "  </thead>\n",
       "  <tbody>\n",
       "    <tr>\n",
       "      <th>0</th>\n",
       "      <td>시점</td>\n",
       "      <td>3.638154</td>\n",
       "    </tr>\n",
       "    <tr>\n",
       "      <th>1</th>\n",
       "      <td>국내총생산</td>\n",
       "      <td>2.177886</td>\n",
       "    </tr>\n",
       "    <tr>\n",
       "      <th>2</th>\n",
       "      <td>고용률</td>\n",
       "      <td>9.753008</td>\n",
       "    </tr>\n",
       "    <tr>\n",
       "      <th>3</th>\n",
       "      <td>국민부담률</td>\n",
       "      <td>4.428681</td>\n",
       "    </tr>\n",
       "    <tr>\n",
       "      <th>4</th>\n",
       "      <td>경제활동참가율</td>\n",
       "      <td>7.173076</td>\n",
       "    </tr>\n",
       "    <tr>\n",
       "      <th>5</th>\n",
       "      <td>무역의존도_수출</td>\n",
       "      <td>10.915512</td>\n",
       "    </tr>\n",
       "    <tr>\n",
       "      <th>6</th>\n",
       "      <td>무역의존도_수입</td>\n",
       "      <td>13.044919</td>\n",
       "    </tr>\n",
       "    <tr>\n",
       "      <th>7</th>\n",
       "      <td>수출</td>\n",
       "      <td>15.752646</td>\n",
       "    </tr>\n",
       "    <tr>\n",
       "      <th>8</th>\n",
       "      <td>수입</td>\n",
       "      <td>13.465293</td>\n",
       "    </tr>\n",
       "    <tr>\n",
       "      <th>9</th>\n",
       "      <td>외환보유액</td>\n",
       "      <td>2.212181</td>\n",
       "    </tr>\n",
       "    <tr>\n",
       "      <th>10</th>\n",
       "      <td>부채비율</td>\n",
       "      <td>2.154077</td>\n",
       "    </tr>\n",
       "    <tr>\n",
       "      <th>11</th>\n",
       "      <td>실업률</td>\n",
       "      <td>2.986453</td>\n",
       "    </tr>\n",
       "    <tr>\n",
       "      <th>12</th>\n",
       "      <td>평균근로자세금</td>\n",
       "      <td>5.357000</td>\n",
       "    </tr>\n",
       "    <tr>\n",
       "      <th>13</th>\n",
       "      <td>디플레이터</td>\n",
       "      <td>3.721765</td>\n",
       "    </tr>\n",
       "    <tr>\n",
       "      <th>14</th>\n",
       "      <td>GDP_성장률</td>\n",
       "      <td>1.272554</td>\n",
       "    </tr>\n",
       "  </tbody>\n",
       "</table>\n",
       "</div>"
      ],
      "text/plain": [
       "          컬럼        VIF\n",
       "0         시점   3.638154\n",
       "1      국내총생산   2.177886\n",
       "2        고용률   9.753008\n",
       "3      국민부담률   4.428681\n",
       "4    경제활동참가율   7.173076\n",
       "5   무역의존도_수출  10.915512\n",
       "6   무역의존도_수입  13.044919\n",
       "7         수출  15.752646\n",
       "8         수입  13.465293\n",
       "9      외환보유액   2.212181\n",
       "10      부채비율   2.154077\n",
       "11       실업률   2.986453\n",
       "12   평균근로자세금   5.357000\n",
       "13     디플레이터   3.721765\n",
       "14   GDP_성장률   1.272554"
      ]
     },
     "execution_count": 56,
     "metadata": {},
     "output_type": "execute_result"
    }
   ],
   "source": [
    "pd.DataFrame({'컬럼': column, 'VIF': variance_inflation_factor(ols_.exog, i)} \n",
    "             for i, column in enumerate(ols_.exog_names)\n",
    "             if column != 'Intercept')"
   ]
  },
  {
   "cell_type": "code",
   "execution_count": 55,
   "metadata": {},
   "outputs": [
    {
     "name": "stderr",
     "output_type": "stream",
     "text": [
      "d:\\Python310\\lib\\site-packages\\seaborn\\_decorators.py:36: FutureWarning: Pass the following variables as keyword args: x, y. From version 0.12, the only valid positional argument will be `data`, and passing other arguments without an explicit keyword will result in an error or misinterpretation.\n",
      "  warnings.warn(\n"
     ]
    },
    {
     "data": {
      "image/png": "[encoded data removed]",
      "text/plain": [
       "<Figure size 432x288 with 1 Axes>"
      ]
     },
     "metadata": {
      "needs_background": "light"
     },
     "output_type": "display_data"
    },
    {
     "name": "stderr",
     "output_type": "stream",
     "text": [
      "d:\\Python310\\lib\\site-packages\\seaborn\\_decorators.py:36: FutureWarning: Pass the following variables as keyword args: x, y. From version 0.12, the only valid positional argument will be `data`, and passing other arguments without an explicit keyword will result in an error or misinterpretation.\n",
      "  warnings.warn(\n"
     ]
    },
    {
     "data": {
      "image/png": "[encoded data removed]",
      "text/plain": [
       "<Figure size 432x288 with 1 Axes>"
      ]
     },
     "metadata": {
      "needs_background": "light"
     },
     "output_type": "display_data"
    },
    {
     "name": "stderr",
     "output_type": "stream",
     "text": [
      "d:\\Python310\\lib\\site-packages\\seaborn\\_decorators.py:36: FutureWarning: Pass the following variables as keyword args: x, y. From version 0.12, the only valid positional argument will be `data`, and passing other arguments without an explicit keyword will result in an error or misinterpretation.\n",
      "  warnings.warn(\n"
     ]
    },
    {
     "data": {
      "image/png": "[encoded data removed]",
      "text/plain": [
       "<Figure size 432x288 with 1 Axes>"
      ]
     },
     "metadata": {
      "needs_background": "light"
     },
     "output_type": "display_data"
    }
   ],
   "source": [
    "fitted = result.predict(datasets)\n",
    "residual = datasets['신용등급'] - fitted\n",
    "\n",
    "sns.regplot(fitted, residual, lowess=True, line_kws={'color': 'red'})\n",
    "plt.plot([fitted.min(), fitted.max()], [0, 0], '--', color='grey')\n",
    "plt.show()\n",
    "\n",
    "sr = scipy.stats.zscore(residual)\n",
    "(x, y), _ = scipy.stats.probplot(sr)\n",
    "sns.scatterplot(x, y)\n",
    "plt.plot([-3, 3], [-3, 3], '--', color='grey')\n",
    "plt.show()\n",
    "\n",
    "sns.regplot(fitted, np.sqrt(np.abs(sr)), lowess=True, line_kws={'color': 'red'})\n",
    "plt.show()\n",
    "\n",
    "## 출처 : https://ysyblog.tistory.com/120"
   ]
  },
  {
   "cell_type": "markdown",
   "metadata": {},
   "source": [
    "--------------------------------------------------------"
   ]
  },
  {
   "cell_type": "markdown",
   "metadata": {},
   "source": [
    "---------------------------------------------------------------------------------------------"
   ]
  },
  {
   "cell_type": "markdown",
   "metadata": {},
   "source": [
    "------------------"
   ]
  },
  {
   "cell_type": "code",
   "execution_count": 48,
   "metadata": {},
   "outputs": [],
   "source": [
    "np.random.seed(42)\n",
    "## statsmodel 패키지에는 교차검증 기능이 별도로 준비되어 있지 않아\n",
    "## 임의로 훈련용,학습용 데이터를 나누는 코드 작성\n",
    "len_ = len(datasets)\n",
    "a = np.random.permutation(np.arange(len_))\n",
    "\n",
    "index_ = int(len_*0.8)\n",
    "train_index = a[:index_]\n",
    "test_index = a[index_:]\n",
    "\n",
    "## https://datascienceschool.net/03%20machine%20learning/06.03%20%EA%B5%90%EC%B0%A8%EA%B2%80%EC%A6%9D.html"
   ]
  },
  {
   "cell_type": "code",
   "execution_count": 49,
   "metadata": {},
   "outputs": [],
   "source": [
    "train_df = datasets.loc[train_index]\n",
    "test_df = datasets.loc[test_index]"
   ]
  },
  {
   "cell_type": "code",
   "execution_count": 50,
   "metadata": {},
   "outputs": [
    {
     "name": "stdout",
     "output_type": "stream",
     "text": [
      "                            OLS Regression Results                            \n",
      "==============================================================================\n",
      "Dep. Variable:                   신용등급   R-squared:                       0.792\n",
      "Model:                            OLS   Adj. R-squared:                  0.751\n",
      "Method:                 Least Squares   F-statistic:                     19.34\n",
      "Date:                Thu, 12 May 2022   Prob (F-statistic):           4.75e-20\n",
      "Time:                        13:58:50   Log-Likelihood:                -166.04\n",
      "No. Observations:                  92   AIC:                             364.1\n",
      "Df Residuals:                      76   BIC:                             404.4\n",
      "Df Model:                          15                                         \n",
      "Covariance Type:            nonrobust                                         \n",
      "==============================================================================\n",
      "                 coef    std err          t      P>|t|      [0.025      0.975]\n",
      "------------------------------------------------------------------------------\n",
      "Intercept      3.6984      4.111      0.900      0.371      -4.490      11.887\n",
      "시점            -1.3727      0.306     -4.490      0.000      -1.982      -0.764\n",
      "국내총생산       6.171e-05   1.39e-05      4.444      0.000    3.41e-05    8.94e-05\n",
      "고용률            0.3897      0.083      4.702      0.000       0.225       0.555\n",
      "국민부담률          0.1400      0.058      2.406      0.019       0.024       0.256\n",
      "경제활동참가율       -0.2919      0.080     -3.627      0.001      -0.452      -0.132\n",
      "무역의존도_수출       0.0244      0.028      0.869      0.387      -0.032       0.080\n",
      "무역의존도_수입      -0.0284      0.031     -0.904      0.369      -0.091       0.034\n",
      "수출          2.047e-06   2.34e-06      0.873      0.385   -2.62e-06    6.72e-06\n",
      "수입          1.831e-06   1.81e-06      1.013      0.314   -1.77e-06    5.43e-06\n",
      "외환보유액      -2.641e-07   1.37e-06     -0.192      0.848      -3e-06    2.47e-06\n",
      "부채비율          -0.0180      0.006     -2.866      0.005      -0.031      -0.006\n",
      "실업률            0.1725      0.075      2.285      0.025       0.022       0.323\n",
      "평균근로자세금       -0.0990      0.049     -2.018      0.047      -0.197      -0.001\n",
      "디플레이터          0.0363      0.026      1.403      0.165      -0.015       0.088\n",
      "GDP_성장률        0.0129      0.058      0.223      0.824      -0.102       0.128\n",
      "==============================================================================\n",
      "Omnibus:                        0.065   Durbin-Watson:                   2.231\n",
      "Prob(Omnibus):                  0.968   Jarque-Bera (JB):                0.235\n",
      "Skew:                           0.002   Prob(JB):                        0.889\n",
      "Kurtosis:                       2.752   Cond. No.                     1.45e+07\n",
      "==============================================================================\n",
      "\n",
      "Notes:\n",
      "[1] Standard Errors assume that the covariance matrix of the errors is correctly specified.\n",
      "[2] The condition number is large, 1.45e+07. This might indicate that there are\n",
      "strong multicollinearity or other numerical problems.\n"
     ]
    }
   ],
   "source": [
    "ols_ = sm.ols('신용등급 ~ 시점 + 국내총생산 + 고용률 + 국민부담률 + 경제활동참가율 +  무역의존도_수출 + 무역의존도_수입 + 수출 + 수입 + 외환보유액 + 부채비율 + 실업률 + 평균근로자세금 + 디플레이터 + GDP_성장률',\n",
    " data=train_df)\n",
    "result = ols_.fit()\n",
    "print(result.summary())\n"
   ]
  },
  {
   "cell_type": "code",
   "execution_count": 36,
   "metadata": {},
   "outputs": [
    {
     "data": {
      "text/plain": [
       "0.663618707774947"
      ]
     },
     "execution_count": 36,
     "metadata": {},
     "output_type": "execute_result"
    }
   ],
   "source": [
    "pred = result.predict(test_df)\n",
    "\n",
    "rss = ((test_df.신용등급 - pred) ** 2).sum()\n",
    "tss = ((test_df.신용등급 - test_df.신용등급.mean())** 2).sum()\n",
    "rsquared = 1 - rss / tss\n",
    "rsquared"
   ]
  },
  {
   "cell_type": "code",
   "execution_count": 38,
   "metadata": {},
   "outputs": [
    {
     "name": "stderr",
     "output_type": "stream",
     "text": [
      "d:\\Python310\\lib\\site-packages\\seaborn\\_decorators.py:36: FutureWarning: Pass the following variables as keyword args: x, y. From version 0.12, the only valid positional argument will be `data`, and passing other arguments without an explicit keyword will result in an error or misinterpretation.\n",
      "  warnings.warn(\n"
     ]
    },
    {
     "data": {
      "image/png": "[encoded data removed]",
      "text/plain": [
       "<Figure size 432x288 with 1 Axes>"
      ]
     },
     "metadata": {
      "needs_background": "light"
     },
     "output_type": "display_data"
    },
    {
     "name": "stderr",
     "output_type": "stream",
     "text": [
      "d:\\Python310\\lib\\site-packages\\seaborn\\_decorators.py:36: FutureWarning: Pass the following variables as keyword args: x, y. From version 0.12, the only valid positional argument will be `data`, and passing other arguments without an explicit keyword will result in an error or misinterpretation.\n",
      "  warnings.warn(\n"
     ]
    },
    {
     "data": {
      "image/png": "[encoded data removed]",
      "text/plain": [
       "<Figure size 432x288 with 1 Axes>"
      ]
     },
     "metadata": {
      "needs_background": "light"
     },
     "output_type": "display_data"
    },
    {
     "name": "stderr",
     "output_type": "stream",
     "text": [
      "d:\\Python310\\lib\\site-packages\\seaborn\\_decorators.py:36: FutureWarning: Pass the following variables as keyword args: x, y. From version 0.12, the only valid positional argument will be `data`, and passing other arguments without an explicit keyword will result in an error or misinterpretation.\n",
      "  warnings.warn(\n"
     ]
    },
    {
     "data": {
      "image/png": "[encoded data removed]",
      "text/plain": [
       "<Figure size 432x288 with 1 Axes>"
      ]
     },
     "metadata": {
      "needs_background": "light"
     },
     "output_type": "display_data"
    }
   ],
   "source": [
    "fitted = result.predict(train_df)\n",
    "residual = train_df['신용등급'] - fitted\n",
    "\n",
    "sns.regplot(fitted, residual, lowess=True, line_kws={'color': 'red'})\n",
    "plt.plot([fitted.min(), fitted.max()], [0, 0], '--', color='grey')\n",
    "plt.show()\n",
    "\n",
    "sr = scipy.stats.zscore(residual)\n",
    "(x, y), _ = scipy.stats.probplot(sr)\n",
    "sns.scatterplot(x, y)\n",
    "plt.plot([-3, 3], [-3, 3], '--', color='grey')\n",
    "plt.show()\n",
    "\n",
    "sns.regplot(fitted, np.sqrt(np.abs(sr)), lowess=True, line_kws={'color': 'red'})\n",
    "plt.show()\n"
   ]
  },
  {
   "cell_type": "code",
   "execution_count": 39,
   "metadata": {},
   "outputs": [
    {
     "data": {
      "text/html": [
       "<div>\n",
       "<style scoped>\n",
       "    .dataframe tbody tr th:only-of-type {\n",
       "        vertical-align: middle;\n",
       "    }\n",
       "\n",
       "    .dataframe tbody tr th {\n",
       "        vertical-align: top;\n",
       "    }\n",
       "\n",
       "    .dataframe thead th {\n",
       "        text-align: right;\n",
       "    }\n",
       "</style>\n",
       "<table border=\"1\" class=\"dataframe\">\n",
       "  <thead>\n",
       "    <tr style=\"text-align: right;\">\n",
       "      <th></th>\n",
       "      <th>컬럼</th>\n",
       "      <th>VIF</th>\n",
       "    </tr>\n",
       "  </thead>\n",
       "  <tbody>\n",
       "    <tr>\n",
       "      <th>0</th>\n",
       "      <td>시점</td>\n",
       "      <td>3.557429</td>\n",
       "    </tr>\n",
       "    <tr>\n",
       "      <th>1</th>\n",
       "      <td>국내총생산</td>\n",
       "      <td>2.414222</td>\n",
       "    </tr>\n",
       "    <tr>\n",
       "      <th>2</th>\n",
       "      <td>고용률</td>\n",
       "      <td>11.732466</td>\n",
       "    </tr>\n",
       "    <tr>\n",
       "      <th>3</th>\n",
       "      <td>국민부담률</td>\n",
       "      <td>5.528913</td>\n",
       "    </tr>\n",
       "    <tr>\n",
       "      <th>4</th>\n",
       "      <td>경제활동참가율</td>\n",
       "      <td>8.551145</td>\n",
       "    </tr>\n",
       "    <tr>\n",
       "      <th>5</th>\n",
       "      <td>무역의존도_수출</td>\n",
       "      <td>14.089634</td>\n",
       "    </tr>\n",
       "    <tr>\n",
       "      <th>6</th>\n",
       "      <td>무역의존도_수입</td>\n",
       "      <td>16.486426</td>\n",
       "    </tr>\n",
       "    <tr>\n",
       "      <th>7</th>\n",
       "      <td>수출</td>\n",
       "      <td>17.929508</td>\n",
       "    </tr>\n",
       "    <tr>\n",
       "      <th>8</th>\n",
       "      <td>수입</td>\n",
       "      <td>14.616049</td>\n",
       "    </tr>\n",
       "    <tr>\n",
       "      <th>9</th>\n",
       "      <td>외환보유액</td>\n",
       "      <td>2.477368</td>\n",
       "    </tr>\n",
       "    <tr>\n",
       "      <th>10</th>\n",
       "      <td>부채비율</td>\n",
       "      <td>2.511494</td>\n",
       "    </tr>\n",
       "    <tr>\n",
       "      <th>11</th>\n",
       "      <td>실업률</td>\n",
       "      <td>3.275167</td>\n",
       "    </tr>\n",
       "    <tr>\n",
       "      <th>12</th>\n",
       "      <td>평균근로자세금</td>\n",
       "      <td>5.503068</td>\n",
       "    </tr>\n",
       "    <tr>\n",
       "      <th>13</th>\n",
       "      <td>디플레이터</td>\n",
       "      <td>4.278120</td>\n",
       "    </tr>\n",
       "    <tr>\n",
       "      <th>14</th>\n",
       "      <td>GDP_성장률</td>\n",
       "      <td>1.387708</td>\n",
       "    </tr>\n",
       "  </tbody>\n",
       "</table>\n",
       "</div>"
      ],
      "text/plain": [
       "          컬럼        VIF\n",
       "0         시점   3.557429\n",
       "1      국내총생산   2.414222\n",
       "2        고용률  11.732466\n",
       "3      국민부담률   5.528913\n",
       "4    경제활동참가율   8.551145\n",
       "5   무역의존도_수출  14.089634\n",
       "6   무역의존도_수입  16.486426\n",
       "7         수출  17.929508\n",
       "8         수입  14.616049\n",
       "9      외환보유액   2.477368\n",
       "10      부채비율   2.511494\n",
       "11       실업률   3.275167\n",
       "12   평균근로자세금   5.503068\n",
       "13     디플레이터   4.278120\n",
       "14   GDP_성장률   1.387708"
      ]
     },
     "execution_count": 39,
     "metadata": {},
     "output_type": "execute_result"
    }
   ],
   "source": [
    "pd.DataFrame({'컬럼': column, 'VIF': variance_inflation_factor(ols_.exog, i)} \n",
    "             for i, column in enumerate(ols_.exog_names)\n",
    "             if column != 'Intercept')"
   ]
  },
  {
   "cell_type": "code",
   "execution_count": 71,
   "metadata": {},
   "outputs": [
    {
     "name": "stdout",
     "output_type": "stream",
     "text": [
      "                            OLS Regression Results                            \n",
      "==============================================================================\n",
      "Dep. Variable:                   신용등급   R-squared:                       0.609\n",
      "Model:                            OLS   Adj. R-squared:                  0.560\n",
      "Method:                 Least Squares   F-statistic:                     12.60\n",
      "Date:                Thu, 12 May 2022   Prob (F-statistic):           6.57e-13\n",
      "Time:                        14:07:11   Log-Likelihood:                -195.20\n",
      "No. Observations:                  92   AIC:                             412.4\n",
      "Df Residuals:                      81   BIC:                             440.1\n",
      "Df Model:                          10                                         \n",
      "Covariance Type:            nonrobust                                         \n",
      "==============================================================================\n",
      "                 coef    std err          t      P>|t|      [0.025      0.975]\n",
      "------------------------------------------------------------------------------\n",
      "Intercept      8.2433      5.022      1.641      0.105      -1.749      18.235\n",
      "시점            -1.2014      0.380     -3.160      0.002      -1.958      -0.445\n",
      "국내총생산       9.289e-05   1.72e-05      5.404      0.000    5.87e-05       0.000\n",
      "국민부담률          0.0751      0.062      1.217      0.227      -0.048       0.198\n",
      "경제활동참가율        0.0547      0.050      1.096      0.276      -0.045       0.154\n",
      "외환보유액       1.407e-06   1.67e-06      0.843      0.402   -1.91e-06    4.73e-06\n",
      "부채비율          -0.0034      0.008     -0.443      0.659      -0.019       0.012\n",
      "실업률           -0.1244      0.071     -1.751      0.084      -0.266       0.017\n",
      "평균근로자세금        0.0083      0.053      0.157      0.876      -0.097       0.114\n",
      "디플레이터          0.0297      0.031      0.970      0.335      -0.031       0.091\n",
      "GDP_성장률       -0.0510      0.074     -0.693      0.490      -0.198       0.096\n",
      "==============================================================================\n",
      "Omnibus:                        6.472   Durbin-Watson:                   2.143\n",
      "Prob(Omnibus):                  0.039   Jarque-Bera (JB):                6.408\n",
      "Skew:                          -0.646   Prob(JB):                       0.0406\n",
      "Kurtosis:                       3.006   Cond. No.                     4.75e+06\n",
      "==============================================================================\n",
      "\n",
      "Notes:\n",
      "[1] Standard Errors assume that the covariance matrix of the errors is correctly specified.\n",
      "[2] The condition number is large, 4.75e+06. This might indicate that there are\n",
      "strong multicollinearity or other numerical problems.\n"
     ]
    }
   ],
   "source": [
    "ols_ = sm.ols('신용등급 ~ 시점 + 국내총생산 + 국민부담률 + 경제활동참가율 + 외환보유액 + 부채비율 + 실업률 + 평균근로자세금 + 디플레이터 + GDP_성장률',\n",
    " data=train_df)\n",
    "result = ols_.fit()\n",
    "print(result.summary())"
   ]
  },
  {
   "cell_type": "code",
   "execution_count": 72,
   "metadata": {},
   "outputs": [
    {
     "data": {
      "text/plain": [
       "0.6550946181274144"
      ]
     },
     "execution_count": 72,
     "metadata": {},
     "output_type": "execute_result"
    }
   ],
   "source": [
    "pred = result.predict(test_df)\n",
    "\n",
    "rss = ((test_df.신용등급 - pred) ** 2).sum()\n",
    "tss = ((test_df.신용등급 - test_df.신용등급.mean())** 2).sum()\n",
    "rsquared = 1 - rss / tss\n",
    "rsquared"
   ]
  },
  {
   "cell_type": "code",
   "execution_count": 73,
   "metadata": {},
   "outputs": [
    {
     "name": "stderr",
     "output_type": "stream",
     "text": [
      "d:\\Python310\\lib\\site-packages\\seaborn\\_decorators.py:36: FutureWarning: Pass the following variables as keyword args: x, y. From version 0.12, the only valid positional argument will be `data`, and passing other arguments without an explicit keyword will result in an error or misinterpretation.\n",
      "  warnings.warn(\n"
     ]
    },
    {
     "data": {
      "image/png": "[encoded data removed]",
      "text/plain": [
       "<Figure size 432x288 with 1 Axes>"
      ]
     },
     "metadata": {
      "needs_background": "light"
     },
     "output_type": "display_data"
    },
    {
     "name": "stderr",
     "output_type": "stream",
     "text": [
      "d:\\Python310\\lib\\site-packages\\seaborn\\_decorators.py:36: FutureWarning: Pass the following variables as keyword args: x, y. From version 0.12, the only valid positional argument will be `data`, and passing other arguments without an explicit keyword will result in an error or misinterpretation.\n",
      "  warnings.warn(\n"
     ]
    },
    {
     "data": {
      "image/png": "[encoded data removed]",
      "text/plain": [
       "<Figure size 432x288 with 1 Axes>"
      ]
     },
     "metadata": {
      "needs_background": "light"
     },
     "output_type": "display_data"
    },
    {
     "name": "stderr",
     "output_type": "stream",
     "text": [
      "d:\\Python310\\lib\\site-packages\\seaborn\\_decorators.py:36: FutureWarning: Pass the following variables as keyword args: x, y. From version 0.12, the only valid positional argument will be `data`, and passing other arguments without an explicit keyword will result in an error or misinterpretation.\n",
      "  warnings.warn(\n"
     ]
    },
    {
     "data": {
      "image/png": "[encoded data removed]",
      "text/plain": [
       "<Figure size 432x288 with 1 Axes>"
      ]
     },
     "metadata": {
      "needs_background": "light"
     },
     "output_type": "display_data"
    }
   ],
   "source": [
    "fitted = result.predict(train_df)\n",
    "residual = train_df['신용등급'] - fitted\n",
    "\n",
    "sns.regplot(fitted, residual, lowess=True, line_kws={'color': 'red'})\n",
    "plt.plot([fitted.min(), fitted.max()], [0, 0], '--', color='grey')\n",
    "plt.show()\n",
    "\n",
    "sr = scipy.stats.zscore(residual)\n",
    "(x, y), _ = scipy.stats.probplot(sr)\n",
    "sns.scatterplot(x, y)\n",
    "plt.plot([-3, 3], [-3, 3], '--', color='grey')\n",
    "plt.show()\n",
    "\n",
    "sns.regplot(fitted, np.sqrt(np.abs(sr)), lowess=True, line_kws={'color': 'red'})\n",
    "plt.show()\n"
   ]
  },
  {
   "cell_type": "code",
   "execution_count": 74,
   "metadata": {},
   "outputs": [
    {
     "data": {
      "text/html": [
       "<div>\n",
       "<style scoped>\n",
       "    .dataframe tbody tr th:only-of-type {\n",
       "        vertical-align: middle;\n",
       "    }\n",
       "\n",
       "    .dataframe tbody tr th {\n",
       "        vertical-align: top;\n",
       "    }\n",
       "\n",
       "    .dataframe thead th {\n",
       "        text-align: right;\n",
       "    }\n",
       "</style>\n",
       "<table border=\"1\" class=\"dataframe\">\n",
       "  <thead>\n",
       "    <tr style=\"text-align: right;\">\n",
       "      <th></th>\n",
       "      <th>컬럼</th>\n",
       "      <th>VIF</th>\n",
       "    </tr>\n",
       "  </thead>\n",
       "  <tbody>\n",
       "    <tr>\n",
       "      <th>0</th>\n",
       "      <td>시점</td>\n",
       "      <td>3.111638</td>\n",
       "    </tr>\n",
       "    <tr>\n",
       "      <th>1</th>\n",
       "      <td>국내총생산</td>\n",
       "      <td>2.091723</td>\n",
       "    </tr>\n",
       "    <tr>\n",
       "      <th>2</th>\n",
       "      <td>국민부담률</td>\n",
       "      <td>3.514521</td>\n",
       "    </tr>\n",
       "    <tr>\n",
       "      <th>3</th>\n",
       "      <td>경제활동참가율</td>\n",
       "      <td>1.857478</td>\n",
       "    </tr>\n",
       "    <tr>\n",
       "      <th>4</th>\n",
       "      <td>외환보유액</td>\n",
       "      <td>2.064430</td>\n",
       "    </tr>\n",
       "    <tr>\n",
       "      <th>5</th>\n",
       "      <td>부채비율</td>\n",
       "      <td>2.134517</td>\n",
       "    </tr>\n",
       "    <tr>\n",
       "      <th>6</th>\n",
       "      <td>실업률</td>\n",
       "      <td>1.638961</td>\n",
       "    </tr>\n",
       "    <tr>\n",
       "      <th>7</th>\n",
       "      <td>평균근로자세금</td>\n",
       "      <td>3.616161</td>\n",
       "    </tr>\n",
       "    <tr>\n",
       "      <th>8</th>\n",
       "      <td>디플레이터</td>\n",
       "      <td>3.379826</td>\n",
       "    </tr>\n",
       "    <tr>\n",
       "      <th>9</th>\n",
       "      <td>GDP_성장률</td>\n",
       "      <td>1.269044</td>\n",
       "    </tr>\n",
       "  </tbody>\n",
       "</table>\n",
       "</div>"
      ],
      "text/plain": [
       "        컬럼       VIF\n",
       "0       시점  3.111638\n",
       "1    국내총생산  2.091723\n",
       "2    국민부담률  3.514521\n",
       "3  경제활동참가율  1.857478\n",
       "4    외환보유액  2.064430\n",
       "5     부채비율  2.134517\n",
       "6      실업률  1.638961\n",
       "7  평균근로자세금  3.616161\n",
       "8    디플레이터  3.379826\n",
       "9  GDP_성장률  1.269044"
      ]
     },
     "execution_count": 74,
     "metadata": {},
     "output_type": "execute_result"
    }
   ],
   "source": [
    "pd.DataFrame({'컬럼': column, 'VIF': variance_inflation_factor(ols_.exog, i)} \n",
    "             for i, column in enumerate(ols_.exog_names)\n",
    "             if column != 'Intercept')"
   ]
  },
  {
   "cell_type": "code",
   "execution_count": null,
   "metadata": {},
   "outputs": [],
   "source": []
  }
 ],
 "metadata": {
  "interpreter": {
   "hash": "1fa163922eb0b3709bbb5d8082b2465c9de796dbaacca80cbaa600e7fff3e4fe"
  },
  "kernelspec": {
   "display_name": "Python 3.10.1 64-bit",
   "language": "python",
   "name": "python3"
  },
  "language_info": {
   "codemirror_mode": {
    "name": "ipython",
    "version": 3
   },
   "file_extension": ".py",
   "mimetype": "text/x-python",
   "name": "python",
   "nbconvert_exporter": "python",
   "pygments_lexer": "ipython3",
   "version": "3.10.1"
  },
  "orig_nbformat": 4
 },
 "nbformat": 4,
 "nbformat_minor": 2
}
