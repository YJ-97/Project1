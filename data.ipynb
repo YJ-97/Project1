{
 "cells": [
  {
   "cell_type": "code",
   "execution_count": 1,
   "metadata": {},
   "outputs": [],
   "source": [
    "import pandas as pd\n",
    "import numpy as np"
   ]
  },
  {
   "cell_type": "code",
   "execution_count": 69,
   "metadata": {},
   "outputs": [],
   "source": [
    "# 경제활동인구_및_참가율 = pd.read_csv(\"./datasets/경제활동인구_및_참가율.csv\", encoding='CP949')\n",
    "# 고용률 = pd.read_csv(\"./datasets/고용률.csv\", encoding='CP949')\n",
    "# 국민부담률 = pd.read_csv(\"./datasets/국민부담률.csv\", encoding='CP949')\n",
    "# 무역의존도 = pd.read_csv(\"./datasets/무역의존도.csv\", encoding='CP949')\n",
    "# 수출수입 = pd.read_csv(\"./datasets/수출수입.csv\", encoding='CP949')\n",
    "# 실업률 = pd.read_csv(\"./datasets/실업률.csv\", encoding='CP949')\n",
    "# 외환보유액 = pd.read_csv(\"./datasets/외환보유액.csv\", encoding='CP949')\n",
    "# 일반정부_총_부채_비율 = pd.read_csv(\"./datasets/일반정부_총_부채_비율.csv\", encoding='CP949')\n",
    "# 평균근로자_세금 = pd.read_csv(\"./datasets/평균근로자_세금.csv\", encoding='CP949')\n",
    "# GDP_디플레이터 = pd.read_csv(\"./datasets/GDP_디플레이터.csv\", encoding='CP949')\n",
    "# GDP_성장률 = pd.read_csv(\"./datasets/GDP_성장률.csv\", encoding='CP949')\n",
    "# 생산자_물가지수 = pd.read_csv(\"./datasets/생산자_물가지수.csv\", encoding='CP949')\n",
    "# 소비자_물가지수 = pd.read_csv(\"./datasets/소비자_물가지수.csv\", encoding='CP949')\n",
    "# 인당_국민총소득 = pd.read_csv(\"./datasets/인당_국민총소득.csv\", encoding='CP949')"
   ]
  },
  {
   "cell_type": "code",
   "execution_count": 70,
   "metadata": {},
   "outputs": [],
   "source": [
    "# from functools import reduce\n",
    "\n",
    "# lists = [인당_국민총소득, GDP_성장률, GDP_디플레이터, 수출수입, 무역의존도,외환보유액, 일반정부_총_부채_비율, 국민부담률, 평균근로자_세금, 경제활동인구_및_참가율, 고용률, 실업률]\n",
    "\n",
    "# all = reduce(lambda left,right : pd.merge(left, right, on=('시점', '국가별'), how='left'), lists)\n",
    "# all['무역의존도_수입'] = all['무역의존도_수입'].replace('-', np.NaN)\n",
    "# all['수입'] = all['수입'].replace('-', np.NaN)\n",
    "# all['무역의존도_수입'] = all['무역의존도_수입'].astype(float)\n",
    "# all['수입'] = all['수입'].astype(float)"
   ]
  },
  {
   "cell_type": "code",
   "execution_count": 64,
   "metadata": {},
   "outputs": [],
   "source": [
    "# all.to_csv('./datasets/all.csv', encoding='CP949', index=None)"
   ]
  },
  {
   "cell_type": "code",
   "execution_count": 72,
   "metadata": {},
   "outputs": [
    {
     "name": "stdout",
     "output_type": "stream",
     "text": [
      "<class 'pandas.core.frame.DataFrame'>\n",
      "RangeIndex: 894 entries, 0 to 893\n",
      "Data columns (total 16 columns):\n",
      " #   Column       Non-Null Count  Dtype  \n",
      "---  ------       --------------  -----  \n",
      " 0   국가별          894 non-null    object \n",
      " 1   시점           894 non-null    int64  \n",
      " 2   인당_국민총소득     789 non-null    float64\n",
      " 3   GDP_성장률      780 non-null    float64\n",
      " 4   디플레이터        756 non-null    float64\n",
      " 5   수출           770 non-null    float64\n",
      " 6   수입           738 non-null    float64\n",
      " 7   무역의존도_수출     770 non-null    float64\n",
      " 8   무역의존도_수입     738 non-null    float64\n",
      " 9   외환보유액        770 non-null    float64\n",
      " 10  부채비율         671 non-null    float64\n",
      " 11  국민부담률        731 non-null    float64\n",
      " 12  평균근로자세금      728 non-null    float64\n",
      " 13  경제활동참가율 (%)  770 non-null    float64\n",
      " 14  고용률          708 non-null    float64\n",
      " 15  실업률          778 non-null    float64\n",
      "dtypes: float64(14), int64(1), object(1)\n",
      "memory usage: 111.9+ KB\n"
     ]
    }
   ],
   "source": [
    "all.info()"
   ]
  },
  {
   "cell_type": "code",
   "execution_count": 80,
   "metadata": {},
   "outputs": [
    {
     "name": "stdout",
     "output_type": "stream",
     "text": [
      "<class 'pandas.core.frame.DataFrame'>\n",
      "RangeIndex: 771 entries, 0 to 770\n",
      "Data columns (total 16 columns):\n",
      " #   Column       Non-Null Count  Dtype  \n",
      "---  ------       --------------  -----  \n",
      " 0   국가별          771 non-null    object \n",
      " 1   시점           771 non-null    int64  \n",
      " 2   인당_국민총소득     771 non-null    float64\n",
      " 3   GDP_성장률      771 non-null    float64\n",
      " 4   디플레이터        756 non-null    float64\n",
      " 5   수출           770 non-null    float64\n",
      " 6   수입           738 non-null    float64\n",
      " 7   무역의존도_수출     770 non-null    float64\n",
      " 8   무역의존도_수입     738 non-null    float64\n",
      " 9   외환보유액        771 non-null    int64  \n",
      " 10  부채비율         672 non-null    float64\n",
      " 11  국민부담률        731 non-null    float64\n",
      " 12  평균근로자세금      729 non-null    float64\n",
      " 13  경제활동참가율 (%)  771 non-null    float64\n",
      " 14  고용률          709 non-null    float64\n",
      " 15  실업률          771 non-null    float64\n",
      "dtypes: float64(13), int64(2), object(1)\n",
      "memory usage: 96.5+ KB\n"
     ]
    }
   ],
   "source": [
    "all = pd.read_csv('./datasets/all.csv', encoding='CP949')\n",
    "all.info()"
   ]
  },
  {
   "cell_type": "code",
   "execution_count": 81,
   "metadata": {},
   "outputs": [
    {
     "name": "stderr",
     "output_type": "stream",
     "text": [
      "C:\\Users\\dbswo\\AppData\\Local\\Temp\\ipykernel_26448\\1220455572.py:3: SettingWithCopyWarning: \n",
      "A value is trying to be set on a copy of a slice from a DataFrame\n",
      "\n",
      "See the caveats in the documentation: https://pandas.pydata.org/pandas-docs/stable/user_guide/indexing.html#returning-a-view-versus-a-copy\n",
      "  data.drop('index', axis=1, inplace=True)\n"
     ]
    }
   ],
   "source": [
    "data = all[(all['시점']==2000) | (all['시점']==2005) | (all['시점']==2010) | (all['시점']==2015) | (all['시점']==2020) ]\n",
    "data.reset_index(inplace=True)\n",
    "data.drop('index', axis=1, inplace=True)\n",
    "data.to_csv('./datasets/data.csv', index=None, encoding='CP949')"
   ]
  },
  {
   "cell_type": "code",
   "execution_count": 82,
   "metadata": {},
   "outputs": [
    {
     "name": "stdout",
     "output_type": "stream",
     "text": [
      "<class 'pandas.core.frame.DataFrame'>\n",
      "RangeIndex: 168 entries, 0 to 167\n",
      "Data columns (total 16 columns):\n",
      " #   Column       Non-Null Count  Dtype  \n",
      "---  ------       --------------  -----  \n",
      " 0   국가별          168 non-null    object \n",
      " 1   시점           168 non-null    int64  \n",
      " 2   인당_국민총소득     168 non-null    float64\n",
      " 3   GDP_성장률      168 non-null    float64\n",
      " 4   디플레이터        163 non-null    float64\n",
      " 5   수출           167 non-null    float64\n",
      " 6   수입           159 non-null    float64\n",
      " 7   무역의존도_수출     167 non-null    float64\n",
      " 8   무역의존도_수입     159 non-null    float64\n",
      " 9   외환보유액        168 non-null    int64  \n",
      " 10  부채비율         140 non-null    float64\n",
      " 11  국민부담률        146 non-null    float64\n",
      " 12  평균근로자세금      158 non-null    float64\n",
      " 13  경제활동참가율 (%)  168 non-null    float64\n",
      " 14  고용률          150 non-null    float64\n",
      " 15  실업률          168 non-null    float64\n",
      "dtypes: float64(13), int64(2), object(1)\n",
      "memory usage: 21.1+ KB\n"
     ]
    }
   ],
   "source": [
    "data.info()"
   ]
  },
  {
   "cell_type": "code",
   "execution_count": 74,
   "metadata": {},
   "outputs": [
    {
     "data": {
      "text/plain": [
       "국가별\n",
       "그리스        2\n",
       "남아메리카      5\n",
       "네덜란드       4\n",
       "노르웨이       5\n",
       "뉴질랜드       4\n",
       "덴마크        5\n",
       "독일         5\n",
       "라트비아       4\n",
       "룩셈부르크      4\n",
       "리투아니아      4\n",
       "리히텐슈타인     4\n",
       "멕시코        5\n",
       "미국         4\n",
       "벨기에        4\n",
       "북아메리카      5\n",
       "스웨덴        5\n",
       "스위스        4\n",
       "스페인        4\n",
       "슬로바키아      5\n",
       "슬로베니아      4\n",
       "아시아        5\n",
       "아이슬란드      4\n",
       "아일랜드       4\n",
       "에스토니아      4\n",
       "영국         4\n",
       "오세아니아      5\n",
       "오스트레일리아    5\n",
       "오스트리아      4\n",
       "유럽         5\n",
       "이스라엘       4\n",
       "이탈리아       5\n",
       "일본         4\n",
       "체코         4\n",
       "칠레         5\n",
       "캐나다        5\n",
       "코스타리카      5\n",
       "콜롬비아       5\n",
       "터키         5\n",
       "포르투갈       5\n",
       "폴란드        5\n",
       "프랑스        4\n",
       "핀란드        5\n",
       "한국         5\n",
       "헝가리        4\n",
       "Name: 시점, dtype: int64"
      ]
     },
     "execution_count": 74,
     "metadata": {},
     "output_type": "execute_result"
    }
   ],
   "source": [
    "data.groupby('국가별').count()['시점']"
   ]
  },
  {
   "cell_type": "code",
   "execution_count": 75,
   "metadata": {},
   "outputs": [
    {
     "name": "stdout",
     "output_type": "stream",
     "text": [
      "<class 'pandas.core.frame.DataFrame'>\n",
      "RangeIndex: 196 entries, 0 to 195\n",
      "Data columns (total 16 columns):\n",
      " #   Column       Non-Null Count  Dtype  \n",
      "---  ------       --------------  -----  \n",
      " 0   국가별          196 non-null    object \n",
      " 1   시점           196 non-null    int64  \n",
      " 2   인당_국민총소득     171 non-null    float64\n",
      " 3   GDP_성장률      169 non-null    float64\n",
      " 4   디플레이터        163 non-null    float64\n",
      " 5   수출           167 non-null    float64\n",
      " 6   수입           159 non-null    float64\n",
      " 7   무역의존도_수출     167 non-null    float64\n",
      " 8   무역의존도_수입     159 non-null    float64\n",
      " 9   외환보유액        167 non-null    float64\n",
      " 10  부채비율         139 non-null    float64\n",
      " 11  국민부담률        146 non-null    float64\n",
      " 12  평균근로자세금      157 non-null    float64\n",
      " 13  경제활동참가율 (%)  167 non-null    float64\n",
      " 14  고용률          149 non-null    float64\n",
      " 15  실업률          169 non-null    float64\n",
      "dtypes: float64(14), int64(1), object(1)\n",
      "memory usage: 24.6+ KB\n"
     ]
    }
   ],
   "source": [
    "data.info()"
   ]
  },
  {
   "cell_type": "code",
   "execution_count": 77,
   "metadata": {},
   "outputs": [],
   "source": [
    "credit_ = pd.read_csv(\"./datasets/OECD신용등급.csv\", encoding='CP949')"
   ]
  },
  {
   "cell_type": "code",
   "execution_count": 78,
   "metadata": {},
   "outputs": [],
   "source": [
    "bins = np.arange(-2,21, 1)+0.99\n",
    "label = ['D','C','CC','CCC-','CCC','CCC+','B-','B','B+','BB-','BB','BB+','BBB-','BBB','BBB+','A-','A','A+','AA-','AA','AA+','AAA']\n",
    "credit_['신용등급_1'] = pd.cut(credit_['신용등급'], bins=bins, labels=label)"
   ]
  },
  {
   "cell_type": "code",
   "execution_count": 79,
   "metadata": {},
   "outputs": [],
   "source": [
    "credit_.to_csv(\"./OECD신용등급.csv\", index=None, encoding='CP949')"
   ]
  },
  {
   "cell_type": "code",
   "execution_count": 40,
   "metadata": {},
   "outputs": [
    {
     "data": {
      "text/plain": [
       "array([-1,  0,  1,  2,  3,  4,  5,  6,  7,  8,  9, 10, 11, 12, 13, 14, 15,\n",
       "       16, 17, 18, 19, 20, 21])"
      ]
     },
     "execution_count": 40,
     "metadata": {},
     "output_type": "execute_result"
    }
   ],
   "source": [
    "bins"
   ]
  },
  {
   "cell_type": "code",
   "execution_count": null,
   "metadata": {},
   "outputs": [],
   "source": []
  }
 ],
 "metadata": {
  "interpreter": {
   "hash": "1fa163922eb0b3709bbb5d8082b2465c9de796dbaacca80cbaa600e7fff3e4fe"
  },
  "kernelspec": {
   "display_name": "Python 3.10.1 64-bit",
   "language": "python",
   "name": "python3"
  },
  "language_info": {
   "codemirror_mode": {
    "name": "ipython",
    "version": 3
   },
   "file_extension": ".py",
   "mimetype": "text/x-python",
   "name": "python",
   "nbconvert_exporter": "python",
   "pygments_lexer": "ipython3",
   "version": "3.10.1"
  },
  "orig_nbformat": 4
 },
 "nbformat": 4,
 "nbformat_minor": 2
}
