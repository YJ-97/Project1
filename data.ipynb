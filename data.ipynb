{
 "cells": [
  {
   "cell_type": "code",
   "execution_count": 1,
   "metadata": {},
   "outputs": [],
   "source": [
    "import pandas as pd\n",
    "import numpy as np"
   ]
  },
  {
   "cell_type": "code",
   "execution_count": 15,
   "metadata": {},
   "outputs": [],
   "source": [
    "경제활동인구_및_참가율 = pd.read_csv(\"./datasets/경제활동인구_및_참가율.csv\", encoding='CP949')\n",
    "고용률 = pd.read_csv(\"./datasets/고용률.csv\", encoding='CP949')\n",
    "국민부담률 = pd.read_csv(\"./datasets/국민부담률.csv\", encoding='CP949')\n",
    "무역의존도 = pd.read_csv(\"./datasets/무역의존도.csv\", encoding='CP949')\n",
    "수출수입 = pd.read_csv(\"./datasets/수출수입.csv\", encoding='CP949')\n",
    "실업률 = pd.read_csv(\"./datasets/실업률.csv\", encoding='CP949')\n",
    "외환보유액 = pd.read_csv(\"./datasets/외환보유액.csv\", encoding='CP949')\n",
    "일반정부_총_부채_비율 = pd.read_csv(\"./datasets/일반정부_총_부채_비율.csv\", encoding='CP949')\n",
    "평균근로자_세금 = pd.read_csv(\"./datasets/평균근로자_세금.csv\", encoding='CP949')\n",
    "GDP_디플레이터 = pd.read_csv(\"./datasets/GDP_디플레이터.csv\", encoding='CP949')\n",
    "GDP_성장률 = pd.read_csv(\"./datasets/GDP_성장률.csv\", encoding='CP949')\n",
    "생산자_물가지수 = pd.read_csv(\"./datasets/생산자_물가지수.csv\", encoding='CP949')\n",
    "소비자_물가지수 = pd.read_csv(\"./datasets/소비자_물가지수.csv\", encoding='CP949')\n",
    "인당_국민총소득 = pd.read_csv(\"./datasets/인당_국민총소득.csv\", encoding='CP949')"
   ]
  },
  {
   "cell_type": "code",
   "execution_count": 17,
   "metadata": {},
   "outputs": [],
   "source": [
    "from functools import reduce\n",
    "\n",
    "lists = [인당_국민총소득, GDP_성장률, GDP_디플레이터, 수출수입, 무역의존도,외환보유액, 일반정부_총_부채_비율, 국민부담률, 평균근로자_세금, 경제활동인구_및_참가율, 고용률, 실업률]\n",
    "\n",
    "all = reduce(lambda left,right : pd.merge(left, right, on=('시점', '국가별'), how='outer'), lists)\n",
    "all['무역의존도_수입'] = all['무역의존도_수입'].replace('-', np.NaN)\n",
    "all['수입'] = all['수입'].replace('-', np.NaN)\n",
    "all['무역의존도_수입'] = all['무역의존도_수입'].astype(float)\n",
    "all['수입'] = all['수입'].astype(float)\n",
    "# all.to_csv('./datasets/all.csv', encoding='CP949', index=None)\n",
    "# all.info()"
   ]
  },
  {
   "cell_type": "code",
   "execution_count": 11,
   "metadata": {},
   "outputs": [
    {
     "name": "stdout",
     "output_type": "stream",
     "text": [
      "<class 'pandas.core.frame.DataFrame'>\n",
      "RangeIndex: 771 entries, 0 to 770\n",
      "Data columns (total 16 columns):\n",
      " #   Column       Non-Null Count  Dtype  \n",
      "---  ------       --------------  -----  \n",
      " 0   국가별          771 non-null    object \n",
      " 1   시점           771 non-null    int64  \n",
      " 2   인당_국민총소득     771 non-null    float64\n",
      " 3   GDP_성장률      771 non-null    float64\n",
      " 4   디플레이터        756 non-null    float64\n",
      " 5   수출           770 non-null    float64\n",
      " 6   수입           738 non-null    float64\n",
      " 7   무역의존도_수출     770 non-null    float64\n",
      " 8   무역의존도_수입     738 non-null    float64\n",
      " 9   외환보유액        771 non-null    int64  \n",
      " 10  부채비율         672 non-null    float64\n",
      " 11  국민부담률        731 non-null    float64\n",
      " 12  평균근로자세금      729 non-null    float64\n",
      " 13  경제활동참가율 (%)  771 non-null    float64\n",
      " 14  고용률          709 non-null    float64\n",
      " 15  실업률          771 non-null    float64\n",
      "dtypes: float64(13), int64(2), object(1)\n",
      "memory usage: 96.5+ KB\n"
     ]
    }
   ],
   "source": [
    "all = pd.read_csv('./datasets/all.csv', encoding='CP949')\n",
    "all.info()"
   ]
  },
  {
   "cell_type": "code",
   "execution_count": 19,
   "metadata": {},
   "outputs": [
    {
     "name": "stderr",
     "output_type": "stream",
     "text": [
      "C:\\Users\\dbswo\\AppData\\Local\\Temp\\ipykernel_24580\\2485679176.py:3: SettingWithCopyWarning: \n",
      "A value is trying to be set on a copy of a slice from a DataFrame\n",
      "\n",
      "See the caveats in the documentation: https://pandas.pydata.org/pandas-docs/stable/user_guide/indexing.html#returning-a-view-versus-a-copy\n",
      "  data.drop('index', axis=1, inplace=True)\n"
     ]
    }
   ],
   "source": [
    "data = all[(all['시점']==2000) | (all['시점']==2005) | (all['시점']==2010) | (all['시점']==2015) | (all['시점']==2020) ]\n",
    "data.reset_index(inplace=True)\n",
    "data.drop('index', axis=1, inplace=True)\n",
    "#data.to_csv('./datasets/data.csv', index=None, encoding='CP949')\n",
    "data.info()"
   ]
  },
  {
   "cell_type": "code",
   "execution_count": null,
   "metadata": {},
   "outputs": [],
   "source": [
    "credit_ = pd.read_csv(\"./datasets/OECD신용등급.csv\", encoding='CP949')"
   ]
  },
  {
   "cell_type": "code",
   "execution_count": 2,
   "metadata": {},
   "outputs": [
    {
     "data": {
      "text/plain": [
       "array([-1.010e+00, -1.000e-02,  9.900e-01,  1.990e+00,  2.990e+00,\n",
       "        3.990e+00,  4.990e+00,  5.990e+00,  6.990e+00,  7.990e+00,\n",
       "        8.990e+00,  9.990e+00,  1.099e+01,  1.199e+01,  1.299e+01,\n",
       "        1.399e+01,  1.499e+01,  1.599e+01,  1.699e+01,  1.799e+01,\n",
       "        1.899e+01,  1.999e+01,  2.099e+01])"
      ]
     },
     "execution_count": 2,
     "metadata": {},
     "output_type": "execute_result"
    }
   ],
   "source": [
    "bins = np.arange(-2,21, 1)+0.99\n",
    "bins"
   ]
  },
  {
   "cell_type": "code",
   "execution_count": null,
   "metadata": {},
   "outputs": [],
   "source": [
    "bins = np.arange(-2,21, 1)+0.99\n",
    "label = ['D','C','CC','CCC-','CCC','CCC+','B-','B','B+','BB-','BB','BB+','BBB-','BBB','BBB+','A-','A','A+','AA-','AA','AA+','AAA']\n",
    "credit_['신용등급_1'] = pd.cut(credit_['신용등급'], bins=bins, labels=label)"
   ]
  },
  {
   "cell_type": "code",
   "execution_count": null,
   "metadata": {},
   "outputs": [],
   "source": [
    "credit_.to_csv(\"./OECD신용등급.csv\", index=None, encoding='CP949')"
   ]
  },
  {
   "cell_type": "code",
   "execution_count": null,
   "metadata": {},
   "outputs": [
    {
     "data": {
      "text/plain": [
       "array([-1,  0,  1,  2,  3,  4,  5,  6,  7,  8,  9, 10, 11, 12, 13, 14, 15,\n",
       "       16, 17, 18, 19, 20, 21])"
      ]
     },
     "execution_count": 40,
     "metadata": {},
     "output_type": "execute_result"
    }
   ],
   "source": [
    "bins"
   ]
  }
 ],
 "metadata": {
  "interpreter": {
   "hash": "1fa163922eb0b3709bbb5d8082b2465c9de796dbaacca80cbaa600e7fff3e4fe"
  },
  "kernelspec": {
   "display_name": "Python 3.10.1 64-bit",
   "language": "python",
   "name": "python3"
  },
  "language_info": {
   "codemirror_mode": {
    "name": "ipython",
    "version": 3
   },
   "file_extension": ".py",
   "mimetype": "text/x-python",
   "name": "python",
   "nbconvert_exporter": "python",
   "pygments_lexer": "ipython3",
   "version": "3.10.1"
  },
  "orig_nbformat": 4
 },
 "nbformat": 4,
 "nbformat_minor": 2
}
