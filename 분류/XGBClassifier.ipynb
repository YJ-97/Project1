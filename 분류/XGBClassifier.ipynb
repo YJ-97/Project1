{
 "cells": [
  {
   "cell_type": "code",
   "execution_count": 1,
   "metadata": {},
   "outputs": [],
   "source": [
    "import pandas as pd\n",
    "import numpy as np\n",
    "import matplotlib.pyplot as plt\n",
    "import seaborn as sns\n",
    "\n",
    "from tensorflow.keras.preprocessing import sequence\n",
    "from xgboost import XGBClassifier\n",
    "from sklearn.model_selection import train_test_split, GridSearchCV\n",
    "from sklearn.preprocessing import StandardScaler, LabelEncoder\n",
    "from sklearn.metrics import accuracy_score"
   ]
  },
  {
   "cell_type": "code",
   "execution_count": 2,
   "metadata": {},
   "outputs": [],
   "source": [
    "data = pd.read_csv('../datasets/input.csv')\n",
    "target = pd.read_csv('../datasets/target.csv')"
   ]
  },
  {
   "cell_type": "code",
   "execution_count": 9,
   "metadata": {},
   "outputs": [
    {
     "name": "stdout",
     "output_type": "stream",
     "text": [
      "<class 'pandas.core.frame.DataFrame'>\n",
      "RangeIndex: 1261 entries, 0 to 1260\n",
      "Data columns (total 10 columns):\n",
      " #   Column    Non-Null Count  Dtype  \n",
      "---  ------    --------------  -----  \n",
      " 0   시점        1261 non-null   int64  \n",
      " 1   인당_GDP    1261 non-null   float64\n",
      " 2   부채비율      1261 non-null   float64\n",
      " 3   실업률       1261 non-null   float64\n",
      " 4   상품및서비스수입  1261 non-null   float64\n",
      " 5   상품및서비스수출  1261 non-null   float64\n",
      " 6   정치적안정성    1261 non-null   int64  \n",
      " 7   규제의질      1261 non-null   int64  \n",
      " 8   경상수지      1261 non-null   float64\n",
      " 9   신용등급점수    1261 non-null   float64\n",
      "dtypes: float64(7), int64(3)\n",
      "memory usage: 98.6 KB\n"
     ]
    }
   ],
   "source": [
    "datasets = pd.merge(data, target, on=('국가별', '시점'), how='outer')\n",
    "datasets.dropna(inplace=True)\n",
    "datasets.reset_index(inplace=True)\n",
    "datasets.drop(['국가별', 'index'], axis=1, inplace=True)\n",
    "datasets.info()"
   ]
  },
  {
   "cell_type": "code",
   "execution_count": 10,
   "metadata": {},
   "outputs": [
    {
     "data": {
      "text/html": [
       "<div>\n",
       "<style scoped>\n",
       "    .dataframe tbody tr th:only-of-type {\n",
       "        vertical-align: middle;\n",
       "    }\n",
       "\n",
       "    .dataframe tbody tr th {\n",
       "        vertical-align: top;\n",
       "    }\n",
       "\n",
       "    .dataframe thead th {\n",
       "        text-align: right;\n",
       "    }\n",
       "</style>\n",
       "<table border=\"1\" class=\"dataframe\">\n",
       "  <thead>\n",
       "    <tr style=\"text-align: right;\">\n",
       "      <th></th>\n",
       "      <th>시점</th>\n",
       "      <th>인당_GDP</th>\n",
       "      <th>부채비율</th>\n",
       "      <th>실업률</th>\n",
       "      <th>상품및서비스수입</th>\n",
       "      <th>상품및서비스수출</th>\n",
       "      <th>정치적안정성</th>\n",
       "      <th>규제의질</th>\n",
       "      <th>경상수지</th>\n",
       "      <th>신용등급점수</th>\n",
       "    </tr>\n",
       "  </thead>\n",
       "  <tbody>\n",
       "    <tr>\n",
       "      <th>count</th>\n",
       "      <td>1261.000000</td>\n",
       "      <td>1261.000000</td>\n",
       "      <td>1261.000000</td>\n",
       "      <td>1261.000000</td>\n",
       "      <td>1261.000000</td>\n",
       "      <td>1261.000000</td>\n",
       "      <td>1261.000000</td>\n",
       "      <td>1261.000000</td>\n",
       "      <td>1261.000000</td>\n",
       "      <td>1261.000000</td>\n",
       "    </tr>\n",
       "    <tr>\n",
       "      <th>mean</th>\n",
       "      <td>7.505155</td>\n",
       "      <td>22012.779330</td>\n",
       "      <td>55.695265</td>\n",
       "      <td>7.113140</td>\n",
       "      <td>4.170044</td>\n",
       "      <td>3.660556</td>\n",
       "      <td>54.612213</td>\n",
       "      <td>67.015860</td>\n",
       "      <td>-1.326674</td>\n",
       "      <td>12.526324</td>\n",
       "    </tr>\n",
       "    <tr>\n",
       "      <th>std</th>\n",
       "      <td>4.603761</td>\n",
       "      <td>22939.181148</td>\n",
       "      <td>37.783440</td>\n",
       "      <td>4.499929</td>\n",
       "      <td>10.071854</td>\n",
       "      <td>9.109875</td>\n",
       "      <td>27.897707</td>\n",
       "      <td>23.512842</td>\n",
       "      <td>7.070186</td>\n",
       "      <td>5.288810</td>\n",
       "    </tr>\n",
       "    <tr>\n",
       "      <th>min</th>\n",
       "      <td>0.000000</td>\n",
       "      <td>333.731576</td>\n",
       "      <td>-3.400000</td>\n",
       "      <td>0.210000</td>\n",
       "      <td>-50.275895</td>\n",
       "      <td>-56.736571</td>\n",
       "      <td>0.000000</td>\n",
       "      <td>6.000000</td>\n",
       "      <td>-41.526871</td>\n",
       "      <td>0.000000</td>\n",
       "    </tr>\n",
       "    <tr>\n",
       "      <th>25%</th>\n",
       "      <td>4.000000</td>\n",
       "      <td>4379.658787</td>\n",
       "      <td>30.300000</td>\n",
       "      <td>4.120000</td>\n",
       "      <td>0.200224</td>\n",
       "      <td>0.259701</td>\n",
       "      <td>29.000000</td>\n",
       "      <td>48.000000</td>\n",
       "      <td>-4.754963</td>\n",
       "      <td>8.000000</td>\n",
       "    </tr>\n",
       "    <tr>\n",
       "      <th>50%</th>\n",
       "      <td>8.000000</td>\n",
       "      <td>12808.038340</td>\n",
       "      <td>47.100000</td>\n",
       "      <td>6.120000</td>\n",
       "      <td>4.560764</td>\n",
       "      <td>4.075288</td>\n",
       "      <td>58.000000</td>\n",
       "      <td>70.000000</td>\n",
       "      <td>-1.742977</td>\n",
       "      <td>12.500000</td>\n",
       "    </tr>\n",
       "    <tr>\n",
       "      <th>75%</th>\n",
       "      <td>11.000000</td>\n",
       "      <td>36323.447740</td>\n",
       "      <td>70.780000</td>\n",
       "      <td>8.480000</td>\n",
       "      <td>9.093538</td>\n",
       "      <td>7.668103</td>\n",
       "      <td>79.000000</td>\n",
       "      <td>88.000000</td>\n",
       "      <td>2.367691</td>\n",
       "      <td>17.000000</td>\n",
       "    </tr>\n",
       "    <tr>\n",
       "      <th>max</th>\n",
       "      <td>15.000000</td>\n",
       "      <td>123514.196700</td>\n",
       "      <td>266.200000</td>\n",
       "      <td>31.110000</td>\n",
       "      <td>66.893243</td>\n",
       "      <td>86.043298</td>\n",
       "      <td>100.000000</td>\n",
       "      <td>100.000000</td>\n",
       "      <td>27.397650</td>\n",
       "      <td>20.000000</td>\n",
       "    </tr>\n",
       "  </tbody>\n",
       "</table>\n",
       "</div>"
      ],
      "text/plain": [
       "                시점         인당_GDP         부채비율          실업률     상품및서비스수입  \\\n",
       "count  1261.000000    1261.000000  1261.000000  1261.000000  1261.000000   \n",
       "mean      7.505155   22012.779330    55.695265     7.113140     4.170044   \n",
       "std       4.603761   22939.181148    37.783440     4.499929    10.071854   \n",
       "min       0.000000     333.731576    -3.400000     0.210000   -50.275895   \n",
       "25%       4.000000    4379.658787    30.300000     4.120000     0.200224   \n",
       "50%       8.000000   12808.038340    47.100000     6.120000     4.560764   \n",
       "75%      11.000000   36323.447740    70.780000     8.480000     9.093538   \n",
       "max      15.000000  123514.196700   266.200000    31.110000    66.893243   \n",
       "\n",
       "          상품및서비스수출       정치적안정성         규제의질         경상수지       신용등급점수  \n",
       "count  1261.000000  1261.000000  1261.000000  1261.000000  1261.000000  \n",
       "mean      3.660556    54.612213    67.015860    -1.326674    12.526324  \n",
       "std       9.109875    27.897707    23.512842     7.070186     5.288810  \n",
       "min     -56.736571     0.000000     6.000000   -41.526871     0.000000  \n",
       "25%       0.259701    29.000000    48.000000    -4.754963     8.000000  \n",
       "50%       4.075288    58.000000    70.000000    -1.742977    12.500000  \n",
       "75%       7.668103    79.000000    88.000000     2.367691    17.000000  \n",
       "max      86.043298   100.000000   100.000000    27.397650    20.000000  "
      ]
     },
     "execution_count": 10,
     "metadata": {},
     "output_type": "execute_result"
    }
   ],
   "source": [
    "lb = LabelEncoder()\n",
    "datasets['시점'] = lb.fit_transform(datasets['시점'])\n",
    "datasets.describe()"
   ]
  },
  {
   "cell_type": "code",
   "execution_count": 11,
   "metadata": {},
   "outputs": [],
   "source": [
    "datasets.iloc[:,9] = round(datasets.iloc[:,9]).astype(int)\n",
    "datasets.iloc[:,9] = datasets.iloc[:,9].astype(str)"
   ]
  },
  {
   "cell_type": "code",
   "execution_count": 12,
   "metadata": {},
   "outputs": [],
   "source": [
    "x_train, x_test, y_train, y_test = train_test_split(datasets.iloc[:,:9], datasets.iloc[:,9], test_size=0.2, random_state=42)"
   ]
  },
  {
   "cell_type": "code",
   "execution_count": 13,
   "metadata": {},
   "outputs": [
    {
     "data": {
      "text/plain": [
       "(20, 20)"
      ]
     },
     "execution_count": 13,
     "metadata": {},
     "output_type": "execute_result"
    }
   ],
   "source": [
    "len(np.unique(y_train)), len(np.unique(y_test))"
   ]
  },
  {
   "cell_type": "code",
   "execution_count": 14,
   "metadata": {},
   "outputs": [],
   "source": [
    "y_train = pd.get_dummies(y_train).values\n",
    "#y_train = sequence.pad_sequences(y_train, maxlen=20)\n",
    "y_test = pd.get_dummies(y_test).values\n",
    "#y_test = sequence.pad_sequences(y_test, maxlen=20)"
   ]
  },
  {
   "cell_type": "code",
   "execution_count": 15,
   "metadata": {},
   "outputs": [
    {
     "name": "stdout",
     "output_type": "stream",
     "text": [
      "acc : 0.35177865612648224\n"
     ]
    }
   ],
   "source": [
    "rf = XGBClassifier(n_estimators=100, max_depth=5, random_state=42)\n",
    "rf.fit(x_train, y_train)\n",
    "pred = rf.predict(x_test)\n",
    "acc = accuracy_score(pred, y_test)\n",
    "print(f'acc : {acc}')"
   ]
  },
  {
   "cell_type": "code",
   "execution_count": 16,
   "metadata": {},
   "outputs": [
    {
     "data": {
      "text/plain": [
       "<AxesSubplot:>"
      ]
     },
     "execution_count": 16,
     "metadata": {},
     "output_type": "execute_result"
    },
    {
     "data": {
      "image/png": "[encoded data removed]",
      "text/plain": [
       "<Figure size 432x288 with 1 Axes>"
      ]
     },
     "metadata": {
      "needs_background": "light"
     },
     "output_type": "display_data"
    }
   ],
   "source": [
    "fi = pd.Series(rf.feature_importances_, rf.feature_names_in_)\n",
    "fi = fi.sort_values(ascending=False)\n",
    "plt.rcParams['font.family'] = 'NanumGothic'\n",
    "sns.barplot(x=fi.values, y=fi.index)"
   ]
  },
  {
   "cell_type": "code",
   "execution_count": 17,
   "metadata": {},
   "outputs": [
    {
     "name": "stdout",
     "output_type": "stream",
     "text": [
      "acc : 0.30039525691699603\n"
     ]
    }
   ],
   "source": [
    "ss = StandardScaler()\n",
    "x_train_ss = ss.fit_transform(x_train)\n",
    "x_train_ss = pd.DataFrame(x_train_ss, columns=x_train.columns)\n",
    "x_test_ss = ss.fit_transform(x_test)\n",
    "x_test_ss = pd.DataFrame(x_test_ss, columns=x_test.columns)\n",
    "\n",
    "rf1 = XGBClassifier(n_estimators=100, max_depth=5, random_state=42)\n",
    "rf1.fit(x_train_ss, y_train)\n",
    "pred = rf1.predict(x_test_ss)\n",
    "acc = accuracy_score(pred, y_test)\n",
    "print(f'acc : {acc}')"
   ]
  },
  {
   "cell_type": "code",
   "execution_count": 18,
   "metadata": {},
   "outputs": [
    {
     "data": {
      "text/plain": [
       "<AxesSubplot:>"
      ]
     },
     "execution_count": 18,
     "metadata": {},
     "output_type": "execute_result"
    },
    {
     "data": {
      "image/png": "[encoded data removed]",
      "text/plain": [
       "<Figure size 432x288 with 1 Axes>"
      ]
     },
     "metadata": {
      "needs_background": "light"
     },
     "output_type": "display_data"
    }
   ],
   "source": [
    "fi1 = pd.Series(rf1.feature_importances_, x_train_ss.columns)\n",
    "fi1 = fi1.sort_values(ascending=False)\n",
    "plt.rcParams['font.family'] = 'NanumGothic'\n",
    "sns.barplot(x=fi.values, y=fi.index)"
   ]
  },
  {
   "cell_type": "code",
   "execution_count": null,
   "metadata": {},
   "outputs": [],
   "source": []
  }
 ],
 "metadata": {
  "interpreter": {
   "hash": "1fa163922eb0b3709bbb5d8082b2465c9de796dbaacca80cbaa600e7fff3e4fe"
  },
  "kernelspec": {
   "display_name": "Python 3.10.1 64-bit",
   "language": "python",
   "name": "python3"
  },
  "language_info": {
   "codemirror_mode": {
    "name": "ipython",
    "version": 3
   },
   "file_extension": ".py",
   "mimetype": "text/x-python",
   "name": "python",
   "nbconvert_exporter": "python",
   "pygments_lexer": "ipython3",
   "version": "3.10.1"
  },
  "orig_nbformat": 4
 },
 "nbformat": 4,
 "nbformat_minor": 2
}
