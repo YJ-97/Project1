{
 "cells": [
  {
   "cell_type": "code",
   "execution_count": 1,
   "metadata": {},
   "outputs": [],
   "source": [
    "import pandas as pd\n",
    "import numpy as np\n",
    "import matplotlib.pyplot as plt\n",
    "import seaborn as sns\n",
    "\n",
    "from sklearn.ensemble import RandomForestRegressor\n",
    "from sklearn.model_selection import train_test_split\n",
    "from sklearn.preprocessing import StandardScaler, LabelEncoder\n",
    "from sklearn.metrics import mean_squared_error, r2_score"
   ]
  },
  {
   "cell_type": "code",
   "execution_count": 2,
   "metadata": {},
   "outputs": [],
   "source": [
    "data = pd.read_csv('./datasets/data.csv', encoding='CP949')\n",
    "target = pd.read_csv('./datasets/OECD신용등급.csv', encoding='CP949')\n",
    "target.drop('신용등급_1', axis=1, inplace=True)"
   ]
  },
  {
   "cell_type": "code",
   "execution_count": 3,
   "metadata": {},
   "outputs": [
    {
     "name": "stdout",
     "output_type": "stream",
     "text": [
      "<class 'pandas.core.frame.DataFrame'>\n",
      "RangeIndex: 116 entries, 0 to 115\n",
      "Data columns (total 16 columns):\n",
      " #   Column    Non-Null Count  Dtype  \n",
      "---  ------    --------------  -----  \n",
      " 0   시점        116 non-null    int64  \n",
      " 1   인당_국민총소득  116 non-null    float64\n",
      " 2   GDP_성장률   116 non-null    float64\n",
      " 3   디플레이터     116 non-null    float64\n",
      " 4   수출        116 non-null    float64\n",
      " 5   수입        116 non-null    float64\n",
      " 6   무역의존도_수출  116 non-null    float64\n",
      " 7   무역의존도_수입  116 non-null    float64\n",
      " 8   외환보유액     116 non-null    int64  \n",
      " 9   부채비율      116 non-null    float64\n",
      " 10  국민부담률     116 non-null    float64\n",
      " 11  평균근로자세금   116 non-null    float64\n",
      " 12  경제활동참가율   116 non-null    float64\n",
      " 13  고용률       116 non-null    float64\n",
      " 14  실업률       116 non-null    float64\n",
      " 15  신용등급      116 non-null    float64\n",
      "dtypes: float64(14), int64(2)\n",
      "memory usage: 14.6 KB\n"
     ]
    }
   ],
   "source": [
    "datasets = pd.merge(data, target, on=('국가별', '시점'), how='left')\n",
    "datasets.columns = ['국가별', '시점', '인당_국민총소득', 'GDP_성장률', '디플레이터', '수출', '수입',\n",
    "       '무역의존도_수출', '무역의존도_수입', '외환보유액', '부채비율', '국민부담률', '평균근로자세금', '경제활동참가율',\n",
    "       '고용률', '실업률', '신용등급']\n",
    "datasets['수입'] = datasets['수입'].astype(float)\n",
    "datasets['무역의존도_수입'] = datasets['무역의존도_수입'].astype(float)\n",
    "datasets.dropna(inplace=True)\n",
    "datasets.reset_index(inplace=True)\n",
    "datasets.drop(['국가별', 'index'], axis=1, inplace=True)\n",
    "datasets.info()"
   ]
  },
  {
   "cell_type": "code",
   "execution_count": 4,
   "metadata": {},
   "outputs": [
    {
     "data": {
      "text/html": [
       "<div>\n",
       "<style scoped>\n",
       "    .dataframe tbody tr th:only-of-type {\n",
       "        vertical-align: middle;\n",
       "    }\n",
       "\n",
       "    .dataframe tbody tr th {\n",
       "        vertical-align: top;\n",
       "    }\n",
       "\n",
       "    .dataframe thead th {\n",
       "        text-align: right;\n",
       "    }\n",
       "</style>\n",
       "<table border=\"1\" class=\"dataframe\">\n",
       "  <thead>\n",
       "    <tr style=\"text-align: right;\">\n",
       "      <th></th>\n",
       "      <th>시점</th>\n",
       "      <th>인당_국민총소득</th>\n",
       "      <th>GDP_성장률</th>\n",
       "      <th>디플레이터</th>\n",
       "      <th>수출</th>\n",
       "      <th>수입</th>\n",
       "      <th>무역의존도_수출</th>\n",
       "      <th>무역의존도_수입</th>\n",
       "      <th>외환보유액</th>\n",
       "      <th>부채비율</th>\n",
       "      <th>국민부담률</th>\n",
       "      <th>평균근로자세금</th>\n",
       "      <th>경제활동참가율</th>\n",
       "      <th>고용률</th>\n",
       "      <th>실업률</th>\n",
       "      <th>신용등급</th>\n",
       "    </tr>\n",
       "  </thead>\n",
       "  <tbody>\n",
       "    <tr>\n",
       "      <th>count</th>\n",
       "      <td>116.000000</td>\n",
       "      <td>116.000000</td>\n",
       "      <td>116.000000</td>\n",
       "      <td>116.000000</td>\n",
       "      <td>1.160000e+02</td>\n",
       "      <td>1.160000e+02</td>\n",
       "      <td>116.000000</td>\n",
       "      <td>116.000000</td>\n",
       "      <td>1.160000e+02</td>\n",
       "      <td>116.000000</td>\n",
       "      <td>116.000000</td>\n",
       "      <td>116.000000</td>\n",
       "      <td>116.000000</td>\n",
       "      <td>116.000000</td>\n",
       "      <td>116.000000</td>\n",
       "      <td>116.000000</td>\n",
       "    </tr>\n",
       "    <tr>\n",
       "      <th>mean</th>\n",
       "      <td>1.689655</td>\n",
       "      <td>33475.815517</td>\n",
       "      <td>3.329310</td>\n",
       "      <td>95.595690</td>\n",
       "      <td>2.217822e+05</td>\n",
       "      <td>2.229416e+05</td>\n",
       "      <td>37.006552</td>\n",
       "      <td>37.020345</td>\n",
       "      <td>8.167653e+04</td>\n",
       "      <td>73.539026</td>\n",
       "      <td>34.313793</td>\n",
       "      <td>38.507759</td>\n",
       "      <td>60.153448</td>\n",
       "      <td>65.972414</td>\n",
       "      <td>8.257759</td>\n",
       "      <td>16.979940</td>\n",
       "    </tr>\n",
       "    <tr>\n",
       "      <th>std</th>\n",
       "      <td>1.058414</td>\n",
       "      <td>21025.028449</td>\n",
       "      <td>3.148085</td>\n",
       "      <td>13.460676</td>\n",
       "      <td>2.805340e+05</td>\n",
       "      <td>3.268235e+05</td>\n",
       "      <td>22.166097</td>\n",
       "      <td>21.632006</td>\n",
       "      <td>1.823440e+05</td>\n",
       "      <td>41.213343</td>\n",
       "      <td>6.950307</td>\n",
       "      <td>8.705592</td>\n",
       "      <td>5.940245</td>\n",
       "      <td>7.047338</td>\n",
       "      <td>4.170646</td>\n",
       "      <td>3.344374</td>\n",
       "    </tr>\n",
       "    <tr>\n",
       "      <th>min</th>\n",
       "      <td>0.000000</td>\n",
       "      <td>4070.600000</td>\n",
       "      <td>-5.500000</td>\n",
       "      <td>58.200000</td>\n",
       "      <td>3.092000e+03</td>\n",
       "      <td>3.919000e+03</td>\n",
       "      <td>7.440000</td>\n",
       "      <td>2.240000</td>\n",
       "      <td>2.790000e+02</td>\n",
       "      <td>6.788000</td>\n",
       "      <td>11.400000</td>\n",
       "      <td>14.700000</td>\n",
       "      <td>48.100000</td>\n",
       "      <td>46.300000</td>\n",
       "      <td>2.600000</td>\n",
       "      <td>3.900000</td>\n",
       "    </tr>\n",
       "    <tr>\n",
       "      <th>25%</th>\n",
       "      <td>1.000000</td>\n",
       "      <td>16716.900000</td>\n",
       "      <td>1.800000</td>\n",
       "      <td>87.700000</td>\n",
       "      <td>4.842350e+04</td>\n",
       "      <td>4.620275e+04</td>\n",
       "      <td>20.292500</td>\n",
       "      <td>22.902500</td>\n",
       "      <td>9.268750e+03</td>\n",
       "      <td>45.829500</td>\n",
       "      <td>30.500000</td>\n",
       "      <td>32.825000</td>\n",
       "      <td>57.025000</td>\n",
       "      <td>60.650000</td>\n",
       "      <td>5.100000</td>\n",
       "      <td>14.500000</td>\n",
       "    </tr>\n",
       "    <tr>\n",
       "      <th>50%</th>\n",
       "      <td>2.000000</td>\n",
       "      <td>30761.750000</td>\n",
       "      <td>2.950000</td>\n",
       "      <td>100.000000</td>\n",
       "      <td>1.204630e+05</td>\n",
       "      <td>8.910150e+04</td>\n",
       "      <td>31.785000</td>\n",
       "      <td>29.410000</td>\n",
       "      <td>3.073500e+04</td>\n",
       "      <td>63.252000</td>\n",
       "      <td>33.100000</td>\n",
       "      <td>38.800000</td>\n",
       "      <td>59.650000</td>\n",
       "      <td>66.100000</td>\n",
       "      <td>7.450000</td>\n",
       "      <td>18.000000</td>\n",
       "    </tr>\n",
       "    <tr>\n",
       "      <th>75%</th>\n",
       "      <td>3.000000</td>\n",
       "      <td>44388.900000</td>\n",
       "      <td>4.200000</td>\n",
       "      <td>103.700000</td>\n",
       "      <td>3.073575e+05</td>\n",
       "      <td>3.133178e+05</td>\n",
       "      <td>51.107500</td>\n",
       "      <td>50.787500</td>\n",
       "      <td>7.170775e+04</td>\n",
       "      <td>101.067500</td>\n",
       "      <td>39.250000</td>\n",
       "      <td>43.775000</td>\n",
       "      <td>63.125000</td>\n",
       "      <td>71.575000</td>\n",
       "      <td>9.925000</td>\n",
       "      <td>20.000000</td>\n",
       "    </tr>\n",
       "    <tr>\n",
       "      <th>max</th>\n",
       "      <td>3.000000</td>\n",
       "      <td>110886.000000</td>\n",
       "      <td>25.200000</td>\n",
       "      <td>143.100000</td>\n",
       "      <td>1.503400e+06</td>\n",
       "      <td>2.248800e+06</td>\n",
       "      <td>146.180000</td>\n",
       "      <td>137.700000</td>\n",
       "      <td>1.233153e+06</td>\n",
       "      <td>234.073000</td>\n",
       "      <td>48.000000</td>\n",
       "      <td>57.100000</td>\n",
       "      <td>81.400000</td>\n",
       "      <td>83.800000</td>\n",
       "      <td>24.900000</td>\n",
       "      <td>20.000000</td>\n",
       "    </tr>\n",
       "  </tbody>\n",
       "</table>\n",
       "</div>"
      ],
      "text/plain": [
       "               시점       인당_국민총소득     GDP_성장률       디플레이터            수출  \\\n",
       "count  116.000000     116.000000  116.000000  116.000000  1.160000e+02   \n",
       "mean     1.689655   33475.815517    3.329310   95.595690  2.217822e+05   \n",
       "std      1.058414   21025.028449    3.148085   13.460676  2.805340e+05   \n",
       "min      0.000000    4070.600000   -5.500000   58.200000  3.092000e+03   \n",
       "25%      1.000000   16716.900000    1.800000   87.700000  4.842350e+04   \n",
       "50%      2.000000   30761.750000    2.950000  100.000000  1.204630e+05   \n",
       "75%      3.000000   44388.900000    4.200000  103.700000  3.073575e+05   \n",
       "max      3.000000  110886.000000   25.200000  143.100000  1.503400e+06   \n",
       "\n",
       "                 수입    무역의존도_수출    무역의존도_수입         외환보유액        부채비율  \\\n",
       "count  1.160000e+02  116.000000  116.000000  1.160000e+02  116.000000   \n",
       "mean   2.229416e+05   37.006552   37.020345  8.167653e+04   73.539026   \n",
       "std    3.268235e+05   22.166097   21.632006  1.823440e+05   41.213343   \n",
       "min    3.919000e+03    7.440000    2.240000  2.790000e+02    6.788000   \n",
       "25%    4.620275e+04   20.292500   22.902500  9.268750e+03   45.829500   \n",
       "50%    8.910150e+04   31.785000   29.410000  3.073500e+04   63.252000   \n",
       "75%    3.133178e+05   51.107500   50.787500  7.170775e+04  101.067500   \n",
       "max    2.248800e+06  146.180000  137.700000  1.233153e+06  234.073000   \n",
       "\n",
       "            국민부담률     평균근로자세금     경제활동참가율         고용률         실업률        신용등급  \n",
       "count  116.000000  116.000000  116.000000  116.000000  116.000000  116.000000  \n",
       "mean    34.313793   38.507759   60.153448   65.972414    8.257759   16.979940  \n",
       "std      6.950307    8.705592    5.940245    7.047338    4.170646    3.344374  \n",
       "min     11.400000   14.700000   48.100000   46.300000    2.600000    3.900000  \n",
       "25%     30.500000   32.825000   57.025000   60.650000    5.100000   14.500000  \n",
       "50%     33.100000   38.800000   59.650000   66.100000    7.450000   18.000000  \n",
       "75%     39.250000   43.775000   63.125000   71.575000    9.925000   20.000000  \n",
       "max     48.000000   57.100000   81.400000   83.800000   24.900000   20.000000  "
      ]
     },
     "execution_count": 4,
     "metadata": {},
     "output_type": "execute_result"
    }
   ],
   "source": [
    "lb = LabelEncoder()\n",
    "datasets['시점'] = lb.fit_transform(datasets['시점'])\n",
    "datasets.describe()"
   ]
  },
  {
   "cell_type": "code",
   "execution_count": 5,
   "metadata": {},
   "outputs": [],
   "source": [
    "x_train, x_test, y_train, y_test = train_test_split(datasets.iloc[:,:14], datasets.iloc[:,14], test_size=0.2, random_state=42)"
   ]
  },
  {
   "cell_type": "code",
   "execution_count": 6,
   "metadata": {},
   "outputs": [
    {
     "name": "stdout",
     "output_type": "stream",
     "text": [
      "mse : 5.141118434841502 \n",
      "rmse : 2.2674034565646894 \n",
      "r2 : 0.4817681071306372\n"
     ]
    }
   ],
   "source": [
    "rf = RandomForestRegressor(n_estimators=100, max_depth=5, random_state=42)\n",
    "rf.fit(x_train, y_train)\n",
    "pred = rf.predict(x_test)\n",
    "mse = mean_squared_error(pred, y_test)\n",
    "rmse = np.sqrt(mse)\n",
    "r2 = r2_score(pred, y_test)\n",
    "print(f'mse : {mse} \\nrmse : {rmse} \\nr2 : {r2}')"
   ]
  },
  {
   "cell_type": "code",
   "execution_count": 7,
   "metadata": {},
   "outputs": [
    {
     "data": {
      "text/plain": [
       "<AxesSubplot:>"
      ]
     },
     "execution_count": 7,
     "metadata": {},
     "output_type": "execute_result"
    },
    {
     "data": {
      "image/png": "[encoded data removed]",
      "text/plain": [
       "<Figure size 432x288 with 1 Axes>"
      ]
     },
     "metadata": {
      "needs_background": "light"
     },
     "output_type": "display_data"
    }
   ],
   "source": [
    "fi = pd.Series(rf.feature_importances_, rf.feature_names_in_)\n",
    "fi = fi.sort_values(ascending=False)\n",
    "plt.rcParams['font.family'] = 'NanumGothic'\n",
    "sns.barplot(x=fi.values, y=fi.index)"
   ]
  },
  {
   "cell_type": "code",
   "execution_count": 8,
   "metadata": {},
   "outputs": [
    {
     "name": "stdout",
     "output_type": "stream",
     "text": [
      "mse : 4.927229860770673 \n",
      "rmse : 2.219736439483452 \n",
      "r2 : 0.51270339515185\n"
     ]
    }
   ],
   "source": [
    "ss = StandardScaler()\n",
    "x_train_ss = ss.fit_transform(x_train)\n",
    "x_train_ss = pd.DataFrame(x_train_ss, columns=x_train.columns)\n",
    "x_test_ss = ss.fit_transform(x_test)\n",
    "x_test_ss = pd.DataFrame(x_test_ss, columns=x_test.columns)\n",
    "\n",
    "rf1 = RandomForestRegressor(n_estimators=100, max_depth=5, random_state=42)\n",
    "rf1.fit(x_train_ss, y_train)\n",
    "pred = rf1.predict(x_test_ss)\n",
    "mse = mean_squared_error(pred, y_test)\n",
    "rmse = np.sqrt(mse)\n",
    "r2 = r2_score(pred, y_test)\n",
    "print(f'mse : {mse} \\nrmse : {rmse} \\nr2 : {r2}')"
   ]
  },
  {
   "cell_type": "code",
   "execution_count": 9,
   "metadata": {},
   "outputs": [
    {
     "data": {
      "text/plain": [
       "<AxesSubplot:>"
      ]
     },
     "execution_count": 9,
     "metadata": {},
     "output_type": "execute_result"
    },
    {
     "data": {
      "image/png": "[encoded data removed]",
      "text/plain": [
       "<Figure size 432x288 with 1 Axes>"
      ]
     },
     "metadata": {
      "needs_background": "light"
     },
     "output_type": "display_data"
    }
   ],
   "source": [
    "fi1 = pd.Series(rf1.feature_importances_, x_train_ss.columns)\n",
    "fi1 = fi1.sort_values(ascending=False)\n",
    "plt.rcParams['font.family'] = 'NanumGothic'\n",
    "sns.barplot(x=fi.values, y=fi.index)"
   ]
  },
  {
   "cell_type": "code",
   "execution_count": null,
   "metadata": {},
   "outputs": [],
   "source": []
  }
 ],
 "metadata": {
  "interpreter": {
   "hash": "1fa163922eb0b3709bbb5d8082b2465c9de796dbaacca80cbaa600e7fff3e4fe"
  },
  "kernelspec": {
   "display_name": "Python 3.10.1 64-bit",
   "language": "python",
   "name": "python3"
  },
  "language_info": {
   "codemirror_mode": {
    "name": "ipython",
    "version": 3
   },
   "file_extension": ".py",
   "mimetype": "text/x-python",
   "name": "python",
   "nbconvert_exporter": "python",
   "pygments_lexer": "ipython3",
   "version": "3.10.1"
  },
  "orig_nbformat": 4
 },
 "nbformat": 4,
 "nbformat_minor": 2
}
